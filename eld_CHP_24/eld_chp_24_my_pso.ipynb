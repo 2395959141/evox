{
 "cells": [
  {
   "cell_type": "code",
   "execution_count": 1,
   "metadata": {},
   "outputs": [],
   "source": [
    "import os\n",
    "\n",
    "# 禁用 JAX 的显存预分配\n",
    "os.environ[\"XLA_PYTHON_CLIENT_PREALLOCATE\"] = \"false\"\n",
    "\n",
    "import jax\n",
    "from evox import Problem, algorithms,jit_class, monitors, workflows\n",
    "from evox.operators import mutation, crossover, selection\n",
    "from jax import random\n",
    "import jax.numpy as jnp\n",
    "\n",
    "import sys\n",
    "sys.path.append('../my_es_algorithm')  # 添加路径到系统路径"
   ]
  },
  {
   "cell_type": "code",
   "execution_count": 2,
   "metadata": {},
   "outputs": [],
   "source": [
    "## 产电机组参数\n",
    "unit_ids = jnp.arange(1, 14)\n",
    "alpha = jnp.array([0.00028, 0.00056, 0.00056, 0.00324, 0.00324, 0.00324, 0.00324, 0.00324, 0.00324, 0.00284, 0.00284, 0.00284, 0.00284])\n",
    "beta = jnp.array([8.1, 8.1, 8.1, 7.74, 7.74, 7.74, 7.74, 7.74, 7.74, 8.6, 8.6, 8.6, 8.6])\n",
    "gamma = jnp.array([550, 309, 309, 240, 240, 240, 240, 240, 240, 126, 126, 126, 126])\n",
    "lambda_vals = jnp.array([300, 200, 200, 150, 150, 150, 150, 150, 150, 100, 100, 100, 100])\n",
    "rho = jnp.array([0.035, 0.042, 0.042, 0.063, 0.063, 0.063, 0.063, 0.063, 0.063, 0.084, 0.084, 0.084, 0.084])\n",
    "pmin = jnp.array([0, 0, 0, 60, 60, 60, 60, 60, 60, 40, 40, 55, 55])\n",
    "pmax = jnp.array([680, 360, 360, 180, 180, 180, 180, 180, 180, 120, 120, 120, 120])\n",
    "\n",
    "# Compiling into a dictionary for structured display or usage\n",
    "power_units = {\n",
    "    \"Unit\": unit_ids,\n",
    "    \"Alpha\": alpha,\n",
    "    \"Beta\": beta,\n",
    "    \"Gamma\": gamma,\n",
    "    \"Lambda\": lambda_vals,\n",
    "    \"Rho\": rho,\n",
    "    \"Pmin\": pmin,\n",
    "    \"Pmax\": pmax\n",
    "}\n",
    "\n"
   ]
  },
  {
   "cell_type": "code",
   "execution_count": 3,
   "metadata": {},
   "outputs": [],
   "source": [
    "## 热点联产机组参数\n",
    "units = jnp.array([14, 15, 16, 17, 18, 19])\n",
    "a = jnp.array([0.0345, 0.0435, 0.0345, 0.0435, 0.1035, 0.072])\n",
    "b = jnp.array([14.5, 36, 14.5, 36, 34.5, 20])\n",
    "c = jnp.array([2650, 1250, 2650, 1250, 2650, 1565])\n",
    "d = jnp.array([0.03, 0.027, 0.03, 0.027, 0.025, 0.02])\n",
    "e = jnp.array([4.2, 0.6, 4.2, 0.6, 2.203, 2.34])\n",
    "f = jnp.array([0.031, 0.011, 0.031, 0.011, 0.051, 0.04])\n",
    "\n",
    "# Feasible region coordinates for Pc and Hc\n",
    "feasible_region = {\n",
    "    14: jnp.array([[98.8, 0], [81, 104.8], [215, 180], [247, 0]]),\n",
    "    15: jnp.array([[44, 0], [44, 15.9], [40, 75], [110.2, 135.6], [125.8, 32.4], [125.8, 0]]),\n",
    "    16: jnp.array([[98.8, 0], [81, 104.8], [215, 180], [247, 0]]),\n",
    "    17: jnp.array([[44, 0], [44, 15.9], [40, 75], [110.2, 135.6], [125.8, 32.4], [125.8, 0]]),\n",
    "    18: jnp.array([[20, 0], [10, 40], [45, 55], [60, 0]]),\n",
    "    19: jnp.array([[35, 0], [35, 20], [90, 45], [90, 25], [105, 0]])\n",
    "}\n",
    "\n",
    "# Combine into a structured dictionary\n",
    "chp_units = {\n",
    "    \"Units\": units,\n",
    "    \"a\": a,\n",
    "    \"b\": b,\n",
    "    \"c\": c,\n",
    "    \"d\": d,\n",
    "    \"e\": e,\n",
    "    \"f\": f,\n",
    "    \"Feasible_Region\": feasible_region\n",
    "}"
   ]
  },
  {
   "cell_type": "code",
   "execution_count": 4,
   "metadata": {},
   "outputs": [],
   "source": [
    "## 产热机组参数\n",
    "# Heat-only unit parameters\n",
    "heat_units = jnp.array([20, 21, 22, 23, 24])\n",
    "a_heat = jnp.array([0.038, 0.038, 0.038, 0.052, 0.052])\n",
    "b_heat = jnp.array([2.0109, 2.0109, 2.0109, 3.0651, 3.0651])\n",
    "c_heat = jnp.array([950, 950, 950, 480, 480])\n",
    "Hmin = jnp.array([0, 0, 0, 0, 0])\n",
    "Hmax = jnp.array([2695.2, 60, 60, 120, 120])\n",
    "\n",
    "# Combine into a structured dictionary\n",
    "heat_units = {\n",
    "    \"Units\": heat_units,\n",
    "    \"a\": a_heat,\n",
    "    \"b\": b_heat,\n",
    "    \"c\": c_heat,\n",
    "    \"Hmin\": Hmin,\n",
    "    \"Hmax\": Hmax\n",
    "}"
   ]
  },
  {
   "cell_type": "code",
   "execution_count": 6,
   "metadata": {},
   "outputs": [],
   "source": [
    "def adjust_population_random_loop(x, Pd, key, tolerance):  # 多次调整\n",
    "    n = x.shape[0]  # 获取发电机的数量\n",
    "\n",
    "    def cond_fun(state):\n",
    "        # x, sumpop, df, r = state\n",
    "        x, sumpop = state\n",
    "        return jnp.abs(sumpop - Pd) >= tolerance\n",
    "\n",
    "    def body_fun(state):\n",
    "        x, sumpop = state\n",
    "        df = sumpop - Pd  # 计算功率偏差\n",
    "        r = random.randint(key, shape=(), minval=0, maxval=n)  # 生成随机数\n",
    "        x = x.at[r].set(x[r] - df)  # 使用 .at[].set() 更新特定索引的值\n",
    "        # x = jnp.clip(x, lb, ub)  # 确保更新后的值不超出上下限\n",
    "        sumpop = jnp.sum(x)  # 计算更新后所有发电机功率的总和\n",
    "        return x, sumpop\n",
    "\n",
    "    state = (x, jnp.sum(x))\n",
    "    x, _= jax.lax.while_loop(cond_fun, body_fun, state)\n",
    "\n",
    "    # 新增：将最终结果保留两位小数\n",
    "    x = jnp.round(x, 2)\n",
    "    \n",
    "    return x"
   ]
  },
  {
   "cell_type": "code",
   "execution_count": 7,
   "metadata": {},
   "outputs": [],
   "source": [
    "## 纯电机组成本\n",
    "def power_unit_cost(xp):\n",
    "    return  ((alpha * (xp ** 2) + beta * xp + gamma).sum() + jnp.abs(lambda_vals * jnp.sin(rho * (Pd - xp))).sum())\n",
    "\n",
    "## 热点联产机组成本\n",
    "def chp_unit_cost(xp,xh):\n",
    "    return a * xp**2 + b * xp + c + d * xh + e * xh**2 + f * xp * xh \n",
    "\n",
    "## 产热机组成本\n",
    "def heat_unit_cost(xh):\n",
    "    return a_heat * xh**2 + b_heat * xh + c_heat\n",
    "\n",
    "## 总成本\n",
    "def total_cost(xp,xh):\n",
    "    return power_unit_cost(xp) + chp_unit_cost(xp,xh) + heat_unit_cost(xh)\n",
    "\n"
   ]
  },
  {
   "cell_type": "code",
   "execution_count": 13,
   "metadata": {},
   "outputs": [],
   "source": [
    "import sys\n",
    "sys.path.append('/home/cyh/evox/my_so_algorithm/')  # 添加包含my_pso.py文件的路径\n",
    "from my_pso import my_PSO  # 导入my_PSO类"
   ]
  },
  {
   "cell_type": "code",
   "execution_count": 14,
   "metadata": {},
   "outputs": [
    {
     "ename": "NameError",
     "evalue": "name 'lb' is not defined",
     "output_type": "error",
     "traceback": [
      "\u001b[0;31m---------------------------------------------------------------------------\u001b[0m",
      "\u001b[0;31mNameError\u001b[0m                                 Traceback (most recent call last)",
      "Cell \u001b[0;32mIn[14], line 3\u001b[0m\n\u001b[1;32m      1\u001b[0m \u001b[38;5;66;03m# 初始化PSO优化器\u001b[39;00m\n\u001b[1;32m      2\u001b[0m pso \u001b[38;5;241m=\u001b[39m my_PSO(\n\u001b[0;32m----> 3\u001b[0m     lb\u001b[38;5;241m=\u001b[39m\u001b[43mlb\u001b[49m,\n\u001b[1;32m      4\u001b[0m     ub\u001b[38;5;241m=\u001b[39mub,\n\u001b[1;32m      5\u001b[0m     Pd\u001b[38;5;241m=\u001b[39m\u001b[38;5;241m2350\u001b[39m,\n\u001b[1;32m      6\u001b[0m     pop_size\u001b[38;5;241m=\u001b[39m\u001b[38;5;241m100\u001b[39m,\n\u001b[1;32m      7\u001b[0m     problem_type\u001b[38;5;241m=\u001b[39m\u001b[38;5;124m'\u001b[39m\u001b[38;5;124mchp_eld\u001b[39m\u001b[38;5;124m'\u001b[39m,\n\u001b[1;32m      8\u001b[0m     chp_params\u001b[38;5;241m=\u001b[39mchp_params,\n\u001b[1;32m      9\u001b[0m     heat_params\u001b[38;5;241m=\u001b[39mheat_params\n\u001b[1;32m     10\u001b[0m )\n",
      "\u001b[0;31mNameError\u001b[0m: name 'lb' is not defined"
     ]
    }
   ],
   "source": [
    "# 初始化PSO优化器\n",
    "pso = my_PSO(\n",
    "    lb=lb,\n",
    "    ub=ub,\n",
    "    Pd=2350,\n",
    "    pop_size=100,\n",
    "    problem_type='chp_eld',\n",
    "    power_params = power_params\n",
    "    chp_params=chp_params,\n",
    "    heat_params=heat_params\n",
    ")"
   ]
  }
 ],
 "metadata": {
  "kernelspec": {
   "display_name": "Python 3",
   "language": "python",
   "name": "python3"
  },
  "language_info": {
   "codemirror_mode": {
    "name": "ipython",
    "version": 3
   },
   "file_extension": ".py",
   "mimetype": "text/x-python",
   "name": "python",
   "nbconvert_exporter": "python",
   "pygments_lexer": "ipython3",
   "version": "3.10.14"
  }
 },
 "nbformat": 4,
 "nbformat_minor": 2
}
