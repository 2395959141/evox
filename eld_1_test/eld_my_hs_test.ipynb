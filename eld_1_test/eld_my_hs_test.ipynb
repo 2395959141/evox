{
 "cells": [
  {
   "cell_type": "code",
   "execution_count": 92,
   "metadata": {},
   "outputs": [],
   "source": [
    "import jax\n",
    "from evox import Problem, algorithms,jit_class, monitors, workflows\n",
    "from evox.operators import mutation, crossover, selection\n",
    "from jax import random\n",
    "import jax.numpy as jnp\n",
    "\n",
    "import sys\n",
    "sys.path.append('../my_so_algorithm')  # 添加路径到系统路径\n",
    "\n",
    "\n",
    "sys.path.append('/home/cyh/evox/eld_1_test')  # 添加包含my_pso.py文件的路径\n"
   ]
  },
  {
   "cell_type": "code",
   "execution_count": 93,
   "metadata": {},
   "outputs": [],
   "source": [
    "lb=jnp.array([36, 36, 60, 80, 47, 68, 110, 135, 135, 130, 94, 94, 125, 125, 125,\n",
    "                           125, 220, 220, 242, 242, 254, 254, 254, 254, 254, 254, 10, 10, 10,\n",
    "                           47, 60, 60, 60, 90, 90, 90, 25, 25, 25, 242])\n",
    "ub=jnp.array([114, 114, 120, 190, 97, 140, 300, 300, 300, 300, 375, 375, 500, 500,\n",
    "                           500, 500, 500, 500, 550, 550, 550, 550, 550, 550, 550, 550, 150, 150,\n",
    "                           150, 97, 190, 190, 190, 200, 200, 200, 110, 110, 110, 550])\n",
    "Pd=10500\n",
    "    \n",
    "a=jnp.array([0.0069, 0.0069, 0.02028, 0.00942, 0.0114, 0.01142, 0.00357, 0.00492,\n",
    "                        0.00573, 0.00605, 0.00515, 0.00569, 0.00421, 0.00752, 0.00708, 0.00708,\n",
    "                        0.0031, 0.00313, 0.00313, 0.00313, 0.00298, 0.00298, 0.00284, 0.00284, 0.00277,\n",
    "                        0.00277, 0.52124, 0.52124, 0.52124, 0.0114, 0.0016, 0.0016, 0.0016, 0.0001,\n",
    "                        0.0001, 0.0001, 0.0161, 0.0161, 0.0161, 0.00313])\n",
    "b=jnp.array([6.7300, 6.7300, 7.0700, 8.1800, 5.3500, 8.0500, 8.0300, 6.9900, 6.6000, 12.9000,\n",
    "                        12.9000, 12.8000, 12.5000, 8.8400, 9.1500, 9.1500, 7.9700, 7.9500, 7.9700, 7.9700,\n",
    "                         6.6300, 6.6300, 6.6600, 6.6600, 7.1000, 7.1000, 3.3300, 3.3300, 3.3300, 5.3500,\n",
    "                         6.4300, 6.4300, 6.4300, 8.9500, 8.6200, 8.6200, 5.8800, 5.8800, 5.8800, 7.9700])\n",
    "c=jnp.array([0.094705, 0.094705, 0.30954, 0.36903, 0.14889, 0.22233, 0.28771, 0.39198,\n",
    "                        0.45576, 0.72282, 0.6352, 0.65469, 0.9134, 1.7604, 1.7283, 1.7283, 0.64785,\n",
    "                        0.64969, 0.64783, 0.64781, 0.78596, 0.78596, 0.79453, 0.79453, 0.80132, 0.80132,\n",
    "                        1.0551, 1.0551, 1.0551, 0.14889, 0.22292, 0.22292, 0.22292, 0.10787, 0.11658,\n",
    "                        0.11658, 0.30745, 0.30745, 0.30745, 0.64783]) * 1000\n",
    "g=jnp.array([\n",
    "                100, 100, 100, 150, 120, 100, 200, 200, 200, 200, 200, 200, 300, 300, 300, 300,\n",
    "                300, 300, 300, 300, 300, 300, 300, 300, 300, 300, 120, 120, 120, 120, 150, 150,\n",
    "                150, 200, 200, 200, 80, 80, 80, 300\n",
    "            ])\n",
    "\n",
    "h=jnp.array([\n",
    "                0.0840, 0.0840, 0.0840, 0.0630, 0.0770, 0.0840, 0.0420, 0.0420, 0.0420, 0.0420,\n",
    "                0.0420, 0.0420, 0.0350, 0.0350, 0.0350, 0.0350, 0.0350, 0.0350, 0.0350, 0.0350,\n",
    "                0.0350, 0.0350, 0.0350, 0.0350, 0.0350, 0.0350, 0.0770, 0.0770, 0.0770, 0.0770,\n",
    "                0.0630, 0.0630, 0.0630, 0.0420, 0.0420, 0.0420, 0.0980, 0.0980, 0.0980, 0.0350\n",
    "            ])"
   ]
  },
  {
   "cell_type": "code",
   "execution_count": 94,
   "metadata": {},
   "outputs": [],
   "source": [
    "import evox\n",
    "from evox.core.state import State\n",
    "from functools import partial\n",
    "from jax import jit\n",
    "\n",
    "def adjust_population_average(x, Pd, lb, ub):\n",
    "    n = x.shape[0]  # 获取发电机的数量  \n",
    "    sumpop = jnp.sum(x)  # 计算所有发电机功率的总和\n",
    "    df = sumpop - Pd  # 计算功率偏差\n",
    "\n",
    "    # 计算每个发电机需要减少的平均功率\n",
    "    df_per_generator = df / n\n",
    "    \n",
    "    # 从每个发电机的功率中减去平均偏差\n",
    "    x_adjusted = x - df_per_generator\n",
    "    \n",
    "    # 确保更新后的值逐元素不超出上下限\n",
    "    x_adjusted = jnp.clip(x_adjusted, lb, ub)\n",
    "    \n",
    "    return x_adjusted\n",
    "\n",
    "\n",
    "def adjust_population_random(x, Pd, key):\n",
    "    \"\"\"\n",
    "    随机选择一个发电机并调整其功率，使解的总和等于 Pd。\n",
    "    \"\"\"\n",
    "    # 计算当前解的总和\n",
    "    sum_x = jnp.sum(x)\n",
    "    \n",
    "    # 计算功率偏差\n",
    "    df = sum_x - Pd\n",
    "    \n",
    "    # 随机选择一个发电机进行调整\n",
    "    r = jax.random.randint(key, shape=(), minval=0, maxval=x.shape[0])\n",
    "    \n",
    "    # 更新随机选择的发电机的功率，减去偏差\n",
    "    x = x.at[r].set(x[r] - df)\n",
    "    \n",
    "    # 确保更新后的解仍然在上下限范围内\n",
    "    x = jnp.clip(x, lb, ub)\n",
    "    \n",
    "    return x\n",
    "\n",
    "\n",
    "# def adjust_population_random_loop(x, Pd, key, lb, ub, tolerance=1e-6, flag=False): #多次调整\n",
    "#     n = x.shape[0]  # 获取发电机的数量\n",
    "#     for _ in range(10):  # 设置最大迭代次数\n",
    "#         sumpop = jnp.sum(x)  # 计算所有发电机功率的总和\n",
    "\n",
    "#         df = sumpop - Pd  # 计算功率偏差\n",
    "\n",
    "#         r = random.randint(key, shape=(), minval=0, maxval=n+1)  # 生成随机数\n",
    "#         # 从第r个发电机中减去总偏差\n",
    "#         x = x.at[r].set(x[r] - df)  # 使用 .at[].set() 更新特定索引的值\n",
    "\n",
    "#         # 确保更新后的值不超出上下限\n",
    "#         x = jnp.clip(x, lb, ub)\n",
    "\n",
    "#         sumpop = jnp.sum(x)  # 计算更新后所有发电机功率的总和\n",
    "\n",
    "#         jnp.abs(sumpop - Pd) < tolerance  # 检查总和是否足够接近Pd\n",
    "\n",
    "\n",
    "def adjust_population_random_loop(x, Pd, key, lb, ub, tolerance=1e-3):  # 多次调整\n",
    "    n = x.shape[0]  # 获取发电机的数量\n",
    "\n",
    "    def cond_fun(state):\n",
    "        x, sumpop, df, r = state\n",
    "        return jnp.abs(sumpop - Pd) >= tolerance\n",
    "\n",
    "    def body_fun(state):\n",
    "        x, sumpop, df, r = state\n",
    "        df = sumpop - Pd  # 计算功率偏差\n",
    "        r = random.randint(key, shape=(), minval=0, maxval=n+1)  # 生成随机数\n",
    "        x = x.at[r].set(x[r] - df)  # 使用 .at[].set() 更新特定索引的值\n",
    "        # x = jnp.clip(x, lb, ub)  # 确保更新后的值不超出上下限\n",
    "        sumpop = jnp.sum(x)  # 计算更新后所有发电机功率的总和\n",
    "        return x, sumpop, df, r\n",
    "\n",
    "    state = (x, jnp.sum(x), 0, 0)\n",
    "    x, _, _, _ = jax.lax.while_loop(cond_fun, body_fun, state)\n",
    "\n",
    "    # 新增：将最终结果保留两位小数\n",
    "    x = jnp.round(x, 2)\n",
    "    \n",
    "    return x\n",
    "\n",
    "\n",
    "\n",
    "def _eld_pso(x):\n",
    "    key = random.PRNGKey(42)\n",
    "\n",
    "    #x = adjust_population_random(x, Pd, key)\n",
    "    #x = adjust_population_random(x, Pd, key, lb, ub) #随机选择发电机调整\n",
    "    # x = adjust_population_average(x, Pd, lb, ub) #机组平均调整\n",
    "    x = adjust_population_random_loop(x, Pd, key, lb, ub, tolerance=1e-1)\n",
    "    \n",
    "    # x = jnp.clip(x, lb, ub)  # 确保更新后的值不超出上下限\n",
    "            \n",
    "    return ((a * (x ** 2) + b * x + c).sum() + jnp.abs(g * jnp.sin(h * (Pd - x))).sum())\n",
    "\n",
    "\n",
    "\n",
    "def eld_pso(x):\n",
    "    return jax.vmap(_eld_pso, in_axes= 0)(x)\n",
    "\n",
    "\n",
    "\n",
    "@evox.jit_class\n",
    "class ELD_PSO(Problem):\n",
    "    def __init__(self):\n",
    "        super().__init__()\n",
    " \n",
    "    def evaluate(self, State, x):\n",
    "        return eld_pso(x), State\n",
    "    \n",
    "        "
   ]
  },
  {
   "cell_type": "code",
   "execution_count": 95,
   "metadata": {},
   "outputs": [
    {
     "name": "stdout",
     "output_type": "stream",
     "text": [
      "/home/cyh/evox/eld_1_test/my_hs.py\n"
     ]
    }
   ],
   "source": [
    "import os\n",
    "print(os.path.abspath('my_hs.py'))"
   ]
  },
  {
   "cell_type": "code",
   "execution_count": 96,
   "metadata": {},
   "outputs": [],
   "source": [
    "import sys\n",
    "sys.path.append('/home/cyh/evox/eld_1_test')  # 添加包含my_pso.py文件的路径\n",
    "\n",
    "from my_hs import my_HarmonySearch  # 导入my_PSO类\n",
    "\n",
    "algorithm = my_HarmonySearch(\n",
    "    #Pd=10500,       # 假设总功率需求为10500（根据实际问题调整）\n",
    "    lb=jnp.array([36, 36, 60, 80, 47, 68, 110, 135, 135, 130, 94, 94, 125, 125, 125,\n",
    "                           125, 220, 220, 242, 242, 254, 254, 254, 254, 254, 254, 10, 10, 10,\n",
    "                           47, 60, 60, 60, 90, 90, 90, 25, 25, 25, 242]),\n",
    "    ub=jnp.array([114, 114, 120, 190, 97, 140, 300, 300, 300, 300, 375, 375, 500, 500,\n",
    "                           500, 500, 500, 500, 550, 550, 550, 550, 550, 550, 550, 550, 150, 150,\n",
    "                           150, 97, 190, 190, 190, 200, 200, 200, 110, 110, 110, 550]),\n",
    "    HMS=500,      # 种群大小\n",
    "    nNew=100,      # 新解数量，这里假设为种群大小的10%\n",
    "    HMCR=0.9,      # 和谐记忆考虑率\n",
    "    PAR=0.5,        # 音高调整率\n",
    "    BW=0.01          # 调整带宽\n",
    ")"
   ]
  },
  {
   "cell_type": "code",
   "execution_count": 97,
   "metadata": {},
   "outputs": [],
   "source": [
    "#创建一个problem实例\n",
    "Problem = ELD_PSO()\n",
    "\n",
    "monitor = monitors.EvalMonitor()\n",
    "# create a workflow\n",
    "workflow = workflows.StdWorkflow(\n",
    "    algorithm,\n",
    "    Problem,\n",
    "    monitors=[monitor],\n",
    ")"
   ]
  },
  {
   "cell_type": "code",
   "execution_count": 98,
   "metadata": {},
   "outputs": [
    {
     "name": "stdout",
     "output_type": "stream",
     "text": [
      "Time taken: 82.59554076194763 seconds\n"
     ]
    }
   ],
   "source": [
    "import time\n",
    "\n",
    "# init the workflow\n",
    "key = jax.random.PRNGKey(1)\n",
    "state = workflow.init(key)\n",
    "\n",
    "start_time = time.time()\n",
    "# run the workflow for 100 steps\n",
    "for i in range(50000):\n",
    "    state = workflow.step(state)\n",
    "\n",
    "end_time = time.time()\n",
    "print(f\"Time taken: {end_time - start_time} seconds\")"
   ]
  },
  {
   "cell_type": "code",
   "execution_count": 99,
   "metadata": {},
   "outputs": [
    {
     "data": {
      "text/plain": [
       "Array(128154.836, dtype=float32)"
      ]
     },
     "execution_count": 99,
     "metadata": {},
     "output_type": "execute_result"
    }
   ],
   "source": [
    "monitor.get_best_fitness()"
   ]
  },
  {
   "cell_type": "code",
   "execution_count": 100,
   "metadata": {},
   "outputs": [
    {
     "data": {
      "text/plain": [
       "Array([ 98.573   , 107.100105,  97.186485, 169.48125 ,  47.      ,\n",
       "       135.4597  , 270.84705 , 259.79434 , 260.31955 , 287.7894  ,\n",
       "       277.02646 , 321.00568 , 262.88757 , 341.15002 , 445.31503 ,\n",
       "       447.46667 , 475.60648 , 438.62976 , 452.08224 , 441.67355 ,\n",
       "       472.1527  , 520.56256 , 543.24445 , 519.61597 , 522.1472  ,\n",
       "       528.6035  ,  13.130763,  21.25184 ,  17.760153,  47.      ,\n",
       "       174.0877  , 175.83427 , 144.39645 , 194.82054 , 162.87842 ,\n",
       "       187.72688 ,  67.78601 , 102.44286 ,  34.841324, 413.32248 ],      dtype=float32)"
      ]
     },
     "execution_count": 100,
     "metadata": {},
     "output_type": "execute_result"
    }
   ],
   "source": [
    "monitor.get_best_solution()"
   ]
  },
  {
   "cell_type": "code",
   "execution_count": 101,
   "metadata": {},
   "outputs": [],
   "source": [
    "value = monitor.get_best_solution()\n",
    "\n",
    "lb= jnp.array([36, 36, 60, 80, 47, 68, 110, 135, 135, 130, 94, 94, 125, 125, 125,\n",
    "                           125, 220, 220, 242, 242, 254, 254, 254, 254, 254, 254, 10, 10, 10,\n",
    "                           47, 60, 60, 60, 90, 90, 90, 25, 25, 25, 242])\n",
    "ub= jnp.array([114, 114, 120, 190, 97, 140, 300, 300, 300, 300, 375, 375, 500, 500,\n",
    "                           500, 500, 500, 500, 550, 550, 550, 550, 550, 550, 550, 550, 150, 150,\n",
    "                           150, 97, 190, 190, 190, 200, 200, 200, 110, 110, 110, 550])\n",
    "for i, value in enumerate(value):\n",
    "    if value < lb[i] or value > ub[i]:\n",
    "        print(f\"Value {value} at index {i} is out of bounds.\")\n",
    "\n"
   ]
  },
  {
   "cell_type": "code",
   "execution_count": 102,
   "metadata": {},
   "outputs": [
    {
     "name": "stdout",
     "output_type": "stream",
     "text": [
      "总和等于目标值。\n"
     ]
    }
   ],
   "source": [
    "# value = monitor.get_best_solution()\n",
    "value = monitor.get_best_solution()\n",
    "total_sum = sum(value)\n",
    "\n",
    "# 检查总和是否等于目标值\n",
    "if total_sum == 10500:\n",
    "    print(\"总和等于目标值。\")\n",
    "else:\n",
    "    print(f\"总和不等于目标值，总和为：{total_sum}，目标值为：{10500}\")"
   ]
  },
  {
   "cell_type": "code",
   "execution_count": 103,
   "metadata": {},
   "outputs": [
    {
     "name": "stdout",
     "output_type": "stream",
     "text": [
      "总和不等于目标值，总和为：10500.0，目标值为：10500，差值为：0.0\n",
      "每台发电机组功率调整：0.0\n",
      "10500.0\n",
      "最终成本：128154.6796875\n"
     ]
    }
   ],
   "source": [
    "dif = total_sum - 10500\n",
    "print(f\"总和不等于目标值，总和为：{total_sum}，目标值为：{10500}，差值为：{dif}\")\n",
    "\n",
    "dif = dif / 40.0\n",
    "print(f\"每台发电机组功率调整：{dif}\")\n",
    "\n",
    "x_final = monitor.get_best_solution() - dif\n",
    "\n",
    "sum_final = sum(x_final)\n",
    "print(sum_final)\n",
    "cost_final =  ((a * (x_final ** 2) + b * x_final + c).sum() + jnp.abs(g * jnp.sin(h * (10500 - x_final))).sum())\n",
    "print(f\"最终成本：{cost_final}\")\n"
   ]
  },
  {
   "cell_type": "code",
   "execution_count": 104,
   "metadata": {},
   "outputs": [
    {
     "name": "stdout",
     "output_type": "stream",
     "text": [
      "总和不等于目标值，总和为：10500.0，目标值为：10500，差值为：0.0\n",
      "每台发电机组功率调整：0.0\n",
      "调整后的总和在容差范围内：10500.0\n",
      "最终的总和: 10500.0\n",
      "最终成本：128154.6796875\n"
     ]
    }
   ],
   "source": [
    "# 1. 获取最优解\n",
    "x_final = monitor.get_best_solution()\n",
    "\n",
    "# 2. 开始调整循环，直到满足总和为10500且元素在上下界\n",
    "tolerance = 1e-1  # 设置一个容差，确保浮点运算不会导致无限循环\n",
    "target_sum = 10500\n",
    "\n",
    "while True:\n",
    "    # 计算当前总和的偏差\n",
    "    total_sum = jnp.sum(x_final)\n",
    "    dif = total_sum - target_sum\n",
    "    print(f\"总和不等于目标值，总和为：{total_sum}，目标值为：{target_sum}，差值为：{dif}\")\n",
    "\n",
    "    # 计算每个发电机需要调整的功率\n",
    "    dif_per_generator = dif / 40.0\n",
    "    print(f\"每台发电机组功率调整：{dif_per_generator}\")\n",
    "\n",
    "    # 3. 减去功率偏差\n",
    "    x_final = x_final - dif_per_generator\n",
    "\n",
    "    # 4. 将 x_final 限制在 lb 和 ub 之间\n",
    "    x_final = jnp.clip(x_final, lb, ub)\n",
    "\n",
    "    # 5. 重新计算缩放后的总和\n",
    "    sum_final = jnp.sum(x_final)\n",
    "\n",
    "    # 如果缩放后的总和仍然不等于 10500，重新进行缩放调整\n",
    "    if jnp.abs(sum_final - target_sum) < tolerance:\n",
    "        print(f\"调整后的总和在容差范围内：{sum_final}\")\n",
    "        break  # 如果总和已经在容差范围内，则退出循环\n",
    "\n",
    "    # 如果总和不等于10500，则通过缩放调整整个数组\n",
    "    scaling_factor = target_sum / sum_final\n",
    "    x_final = x_final * scaling_factor\n",
    "\n",
    "    # 确保缩放后的 x_final 仍然在 lb 和 ub 之间\n",
    "    x_final = jnp.clip(x_final, lb, ub)\n",
    "\n",
    "# 6. 重新计算总和和成本\n",
    "sum_final = jnp.sum(x_final)\n",
    "print(f\"最终的总和: {sum_final}\")\n",
    "\n",
    "# 计算最终成本\n",
    "cost_final = ((a * (x_final ** 2) + b * x_final + c).sum() + \n",
    "              jnp.abs(g * jnp.sin(h * (target_sum - x_final))).sum())\n",
    "print(f\"最终成本：{cost_final}\")"
   ]
  }
 ],
 "metadata": {
  "kernelspec": {
   "display_name": "Python 3",
   "language": "python",
   "name": "python3"
  },
  "language_info": {
   "codemirror_mode": {
    "name": "ipython",
    "version": 3
   },
   "file_extension": ".py",
   "mimetype": "text/x-python",
   "name": "python",
   "nbconvert_exporter": "python",
   "pygments_lexer": "ipython3",
   "version": "3.10.14"
  }
 },
 "nbformat": 4,
 "nbformat_minor": 2
}
