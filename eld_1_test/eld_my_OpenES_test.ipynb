{
 "cells": [
  {
   "cell_type": "code",
   "execution_count": 1,
   "metadata": {
    "jupyter": {
     "is_executing": true
    }
   },
   "outputs": [],
   "source": [
    "import jax\n",
    "from evox import Problem, algorithms,jit_class, monitors, workflows\n",
    "from evox.operators import mutation, crossover, selection\n",
    "from jax import random\n",
    "import jax.numpy as jnp\n",
    "\n",
    "import sys\n",
    "sys.path.append('../my_es_algorithm')  # 添加路径到系统路径"
   ]
  },
  {
   "cell_type": "code",
   "execution_count": 2,
   "metadata": {},
   "outputs": [],
   "source": [
    "Pd=10500\n",
    "    \n",
    "a=jnp.array([0.0069, 0.0069, 0.02028, 0.00942, 0.0114, 0.01142, 0.00357, 0.00492,\n",
    "                        0.00573, 0.00605, 0.00515, 0.00569, 0.00421, 0.00752, 0.00708, 0.00708,\n",
    "                        0.0031, 0.00313, 0.00313, 0.00313, 0.00298, 0.00298, 0.00284, 0.00284, 0.00277,\n",
    "                        0.00277, 0.52124, 0.52124, 0.52124, 0.0114, 0.0016, 0.0016, 0.0016, 0.0001,\n",
    "                        0.0001, 0.0001, 0.0161, 0.0161, 0.0161, 0.00313])\n",
    "b=jnp.array([6.7300, 6.7300, 7.0700, 8.1800, 5.3500, 8.0500, 8.0300, 6.9900, 6.6000, 12.9000,\n",
    "                        12.9000, 12.8000, 12.5000, 8.8400, 9.1500, 9.1500, 7.9700, 7.9500, 7.9700, 7.9700,\n",
    "                         6.6300, 6.6300, 6.6600, 6.6600, 7.1000, 7.1000, 3.3300, 3.3300, 3.3300, 5.3500,\n",
    "                         6.4300, 6.4300, 6.4300, 8.9500, 8.6200, 8.6200, 5.8800, 5.8800, 5.8800, 7.9700])\n",
    "c=jnp.array([0.094705, 0.094705, 0.30954, 0.36903, 0.14889, 0.22233, 0.28771, 0.39198,\n",
    "                        0.45576, 0.72282, 0.6352, 0.65469, 0.9134, 1.7604, 1.7283, 1.7283, 0.64785,\n",
    "                        0.64969, 0.64783, 0.64781, 0.78596, 0.78596, 0.79453, 0.79453, 0.80132, 0.80132,\n",
    "                        1.0551, 1.0551, 1.0551, 0.14889, 0.22292, 0.22292, 0.22292, 0.10787, 0.11658,\n",
    "                        0.11658, 0.30745, 0.30745, 0.30745, 0.64783]) * 1000\n",
    "g=jnp.array([\n",
    "                100, 100, 100, 150, 120, 100, 200, 200, 200, 200, 200, 200, 300, 300, 300, 300,\n",
    "                300, 300, 300, 300, 300, 300, 300, 300, 300, 300, 120, 120, 120, 120, 150, 150,\n",
    "                150, 200, 200, 200, 80, 80, 80, 300\n",
    "            ])\n",
    "\n",
    "h=jnp.array([\n",
    "                0.0840, 0.0840, 0.0840, 0.0630, 0.0770, 0.0840, 0.0420, 0.0420, 0.0420, 0.0420,\n",
    "                0.0420, 0.0420, 0.0350, 0.0350, 0.0350, 0.0350, 0.0350, 0.0350, 0.0350, 0.0350,\n",
    "                0.0350, 0.0350, 0.0350, 0.0350, 0.0350, 0.0350, 0.0770, 0.0770, 0.0770, 0.0770,\n",
    "                0.0630, 0.0630, 0.0630, 0.0420, 0.0420, 0.0420, 0.0980, 0.0980, 0.0980, 0.0350\n",
    "            ])\n",
    "lb=jnp.array([36, 36, 60, 80, 47, 68, 110, 135, 135, 130, 94, 94, 125, 125, 125,\n",
    "                           125, 220, 220, 242, 242, 254, 254, 254, 254, 254, 254, 10, 10, 10,\n",
    "                           47, 60, 60, 60, 90, 90, 90, 25, 25, 25, 242])\n",
    "ub=jnp.array([114, 114, 120, 190, 97, 140, 300, 300, 300, 300, 375, 375, 500, 500,\n",
    "                           500, 500, 500, 500, 550, 550, 550, 550, 550, 550, 550, 550, 150, 150,\n",
    "                           150, 97, 190, 190, 190, 200, 200, 200, 110, 110, 110, 550])"
   ]
  },
  {
   "cell_type": "code",
   "execution_count": 3,
   "metadata": {},
   "outputs": [
    {
     "name": "stdout",
     "output_type": "stream",
     "text": [
      "[ 50.452946  71.743164 120.       190.        97.        94.217514\n",
      " 165.93658  300.       300.       197.93858  375.       120.08821\n",
      " 365.22363  181.1079   201.60548  500.       500.       500.\n",
      " 550.       550.       405.20096  517.7552   550.       346.80945\n",
      " 519.1493   401.31702   87.787254 116.93457  150.        80.10183\n",
      " 143.02684  138.74217  190.       118.06074  112.88136  185.89024\n",
      " 110.        65.95288   50.843006 299.49225 ]\n"
     ]
    }
   ],
   "source": [
    "def initialize_center_with_constraints(key, Pd, lb, ub):\n",
    "    n = lb.shape[0]  # 获取向量的长度\n",
    "    # 1. 随机生成一个在 [lb, ub] 之间的初始向量\n",
    "    random_init = jax.random.uniform(key, shape=(n,), minval=0.0, maxval=1.0)\n",
    "    \n",
    "    # 2. 通过线性插值将 random_init 映射到 [lb, ub] 之间\n",
    "    scaled_init = lb + random_init * (ub - lb)\n",
    "    \n",
    "    # 3. 计算当前随机向量的和\n",
    "    sum_scaled_init = jnp.sum(scaled_init)\n",
    "    \n",
    "    # 4. 将向量调整为和等于 Pd\n",
    "    center_init = scaled_init * (Pd / sum_scaled_init)  # 重新缩放以使其和为 Pd\n",
    "    \n",
    "    # 5. 确保调整后的值仍然在 [lb, ub] 之间\n",
    "    center_init = jnp.clip(center_init, lb, ub)\n",
    "    \n",
    "    return center_init\n",
    "\n",
    "key = random.PRNGKey(2)\n",
    "center_init = initialize_center_with_constraints(key, Pd, lb, ub)\n",
    "print(center_init)"
   ]
  },
  {
   "cell_type": "code",
   "execution_count": 4,
   "metadata": {},
   "outputs": [
    {
     "name": "stdout",
     "output_type": "stream",
     "text": [
      "10020.26\n"
     ]
    }
   ],
   "source": [
    "print(sum(center_init))"
   ]
  },
  {
   "cell_type": "code",
   "execution_count": 5,
   "metadata": {},
   "outputs": [],
   "source": [
    "\n",
    "\n",
    "def adjust_population_average(x, Pd, lb, ub):#单词平均调整\n",
    "    n = x.shape[0]  # 获取发电机的数量  \n",
    "    sumpop = jnp.sum(x)  # 计算所有发电机功率的总和\n",
    "    df = sumpop - Pd  # 计算功率偏差\n",
    "\n",
    "    # 计算每个发电机需要减少的平均功率\n",
    "    df_per_generator = df / n\n",
    "    \n",
    "    # 从每个发电机的功率中减去平均偏差\n",
    "    x_adjusted = x - df_per_generator\n",
    "    \n",
    "    # 确保更新后的值逐元素不超出上下限\n",
    "    x_adjusted = jnp.clip(x_adjusted, lb, ub)\n",
    "    \n",
    "    return x_adjusted\n",
    "\n",
    "\n",
    "def adjust_population_random(x, Pd, key, lb, ub):   #单次调整\n",
    "    n = x.shape[0]  # 获取发电机的数量  \n",
    "    sumpop = jnp.sum(x)  # 计算所有发电机功率的总和\n",
    "    df = sumpop - Pd  # 计算功率偏差\n",
    "\n",
    "    r = random.randint(key, shape=(), minval=0, maxval=n+1) #生成随机数\n",
    "    # 从第r个发电机中减去总偏差\n",
    "    x = x.at[r].set(x[r] - df)  # 使用 .at[].set() 更新特定索引的值\n",
    "\n",
    "    # 确保更新后的值逐元素不超出上下限\n",
    "    # x = jnp.clip(x, lb, ub)\n",
    "    return x\n",
    "\n",
    "\n",
    "def adjust_population_random_loop(x, Pd, key, tolerance):  # 多次调整\n",
    "    n = x.shape[0]  # 获取发电机的数量\n",
    "\n",
    "    def cond_fun(state):\n",
    "        # x, sumpop, df, r = state\n",
    "        x, sumpop = state\n",
    "        return jnp.abs(sumpop - Pd) >= tolerance\n",
    "\n",
    "    def body_fun(state):\n",
    "        x, sumpop = state\n",
    "        df = sumpop - Pd  # 计算功率偏差\n",
    "        r = random.randint(key, shape=(), minval=0, maxval=n)  # 生成随机数\n",
    "        x = x.at[r].set(x[r] - df)  # 使用 .at[].set() 更新特定索引的值\n",
    "        # x = jnp.clip(x, lb, ub)  # 确保更新后的值不超出上下限\n",
    "        sumpop = jnp.sum(x)  # 计算更新后所有发电机功率的总和\n",
    "        return x, sumpop\n",
    "\n",
    "    state = (x, jnp.sum(x))\n",
    "    x, _= jax.lax.while_loop(cond_fun, body_fun, state)\n",
    "\n",
    "    # 新增：将最终结果保留两位小数\n",
    "    x = jnp.round(x, 2)\n",
    "    \n",
    "    return x\n",
    "\n",
    "def _eld_openes(x):\n",
    "\n",
    "    # x = adjust_population_average(x, Pd, lb, ub)\n",
    "    key = random.PRNGKey(42)\n",
    "    #x = adjust_population_random(x, Pd, key, lb, ub) #随机选择发电机调整\n",
    "    #x = adjust_population_average(x, Pd, lb, ub) #机组平均调整\n",
    "    #x = adjust_population_random_loop(x, Pd, key, lb, ub, tolerance=1e-1)#多次随机选择发电机调整\n",
    "    # x = jnp.clip(x, lb, ub)  # 确保更新后的值不超出上下限\n",
    "            \n",
    "    return ((a * (x ** 2) + b * x + c).sum() + jnp.abs(g * jnp.sin(h * (Pd - x))).sum())\n",
    "\n",
    "\n",
    "\n",
    "def eld_openes(x):\n",
    "    return jax.vmap(_eld_openes, in_axes= 0)(x)\n",
    "\n",
    "\n",
    "\n",
    "# @evox.jit_class\n",
    "class ELD_OpenES(Problem):\n",
    "    def __init__(self):\n",
    "        super().__init__()\n",
    " \n",
    "    def evaluate(self, State, x):\n",
    "        return eld_openes(x), State"
   ]
  },
  {
   "cell_type": "code",
   "execution_count": 6,
   "metadata": {},
   "outputs": [
    {
     "name": "stdout",
     "output_type": "stream",
     "text": [
      "[ 75.   75.   90.  135.   72.  104.  205.  217.5 217.5 215.  234.5 234.5\n",
      " 312.5 312.5 312.5 312.5 360.  360.  396.  396.  402.  402.  402.  402.\n",
      " 402.  402.   80.   80.   80.   72.  125.  125.  125.  145.  145.  145.\n",
      "  67.5  67.5  67.5 396. ]\n"
     ]
    }
   ],
   "source": [
    "print((lb+ub)/2)"
   ]
  },
  {
   "cell_type": "code",
   "execution_count": 7,
   "metadata": {},
   "outputs": [],
   "source": [
    "clpso_solution_final= jnp.array([114.      , 114.      , 102.88154 , 177.61934 ,  96.48356 ,\n",
    "       140.      , 300.      , 299.9996  , 300.      , 177.60959 ,\n",
    "       102.82463 , 102.831665, 177.61775 , 357.15604 , 357.17252 ,\n",
    "       267.39246 , 446.9602  , 446.9259  , 536.6901  , 536.6806  ,\n",
    "       536.65076 , 536.6773  , 536.6747  , 536.69183 , 536.6736  ,\n",
    "       536.6779  ,  14.411358,  14.415762,  14.42254 ,  96.55464 ,\n",
    "       190.      , 189.99121 , 190.      , 178.03438 , 192.73204 ,\n",
    "       177.87962 , 110.      , 110.      , 110.      , 536.6628  ])"
   ]
  },
  {
   "cell_type": "code",
   "execution_count": 8,
   "metadata": {},
   "outputs": [],
   "source": [
    "from my_open_es import my_OpenES\n",
    "\n",
    "algorithm = my_OpenES(\n",
    "    #center_init = (lb+ub)/2,\n",
    "    center_init = clpso_solution_final,  #clpso优化后得到的全局最优解作为初始化\n",
    "    pop_size=10000,\n",
    "    learning_rate=0.1,\n",
    "    noise_stdev=0.5,\n",
    "    lb=lb,              # 设置下界为一维数组\n",
    "    ub=ub,              # 设置上界为一维数组\n",
    "    optimizer=None,\n",
    "    mirrored_sampling=False,\n",
    "    )\n"
   ]
  },
  {
   "cell_type": "code",
   "execution_count": 9,
   "metadata": {},
   "outputs": [],
   "source": [
    "#创建一个problem实例\n",
    "Problem = ELD_OpenES()\n",
    "\n",
    "monitor = monitors.EvalMonitor()\n",
    "# create a workflow\n",
    "workflow = workflows.StdWorkflow(\n",
    "    algorithm,\n",
    "    Problem,\n",
    "    monitors=[monitor],\n",
    ")"
   ]
  },
  {
   "cell_type": "code",
   "execution_count": 10,
   "metadata": {},
   "outputs": [
    {
     "name": "stdout",
     "output_type": "stream",
     "text": [
      "Time taken: 2.0710997581481934 seconds\n"
     ]
    }
   ],
   "source": [
    "import time\n",
    "\n",
    "# init the workflow\n",
    "key = jax.random.PRNGKey(2)\n",
    "state = workflow.init(key)\n",
    "\n",
    "start_time = time.time()\n",
    "# run the workflow for 100 steps\n",
    "for i in range(500):\n",
    "    state = workflow.step(state)\n",
    "\n",
    "end_time = time.time()\n",
    "print(f\"Time taken: {end_time - start_time} seconds\")"
   ]
  },
  {
   "cell_type": "code",
   "execution_count": 11,
   "metadata": {},
   "outputs": [
    {
     "data": {
      "text/plain": [
       "Array(121027.47, dtype=float32)"
      ]
     },
     "execution_count": 11,
     "metadata": {},
     "output_type": "execute_result"
    }
   ],
   "source": [
    "monitor.get_best_fitness()"
   ]
  },
  {
   "cell_type": "code",
   "execution_count": 12,
   "metadata": {},
   "outputs": [
    {
     "data": {
      "text/plain": [
       "Array([114.      , 113.770195, 102.9025  , 177.66599 ,  96.67516 ,\n",
       "       139.7517  , 299.80063 , 299.5466  , 300.      , 177.62146 ,\n",
       "       102.81155 , 102.9017  , 177.638   , 356.95197 , 357.5192  ,\n",
       "       267.59293 , 446.4538  , 446.95682 , 536.5862  , 536.2579  ,\n",
       "       536.6521  , 537.56396 , 536.8904  , 537.0216  , 536.9799  ,\n",
       "       537.0524  ,  14.735229,  14.404591,  14.367811,  96.73224 ,\n",
       "       189.83466 , 189.80156 , 189.9653  , 177.89746 , 192.41908 ,\n",
       "       178.13895 , 109.69685 , 110.      , 109.75006 , 536.6877  ],      dtype=float32)"
      ]
     },
     "execution_count": 12,
     "metadata": {},
     "output_type": "execute_result"
    }
   ],
   "source": [
    "monitor.get_best_solution()"
   ]
  },
  {
   "cell_type": "code",
   "execution_count": 13,
   "metadata": {},
   "outputs": [],
   "source": [
    "value = monitor.get_best_solution()\n",
    "\n",
    "lb= jnp.array([36, 36, 60, 80, 47, 68, 110, 135, 135, 130, 94, 94, 125, 125, 125,\n",
    "                           125, 220, 220, 242, 242, 254, 254, 254, 254, 254, 254, 10, 10, 10,\n",
    "                           47, 60, 60, 60, 90, 90, 90, 25, 25, 25, 242])\n",
    "ub= jnp.array([114, 114, 120, 190, 97, 140, 300, 300, 300, 300, 375, 375, 500, 500,\n",
    "                           500, 500, 500, 500, 550, 550, 550, 550, 550, 550, 550, 550, 150, 150,\n",
    "                           150, 97, 190, 190, 190, 200, 200, 200, 110, 110, 110, 550])\n",
    "for i, value in enumerate(value):\n",
    "    if value < lb[i] or value > ub[i]:\n",
    "        print(f\"Value {value} at index {i} is out of bounds.\")"
   ]
  },
  {
   "cell_type": "code",
   "execution_count": 14,
   "metadata": {},
   "outputs": [
    {
     "name": "stdout",
     "output_type": "stream",
     "text": [
      "总和不等于目标值，总和为：10499.99609375，目标值为：10500\n"
     ]
    }
   ],
   "source": [
    "# value = monitor.get_best_solution()\n",
    "value = monitor.get_best_solution()\n",
    "total_sum = sum(value)\n",
    "\n",
    "# 检查总和是否等于目标值\n",
    "if total_sum == 10500:\n",
    "    print(\"总和等于目标值。\")\n",
    "else:\n",
    "    print(f\"总和不等于目标值，总和为：{total_sum}，目标值为：{10500}\")"
   ]
  },
  {
   "cell_type": "code",
   "execution_count": 15,
   "metadata": {},
   "outputs": [
    {
     "name": "stdout",
     "output_type": "stream",
     "text": [
      "总和不等于目标值，总和为：10499.99609375，目标值为：10500，差值为：-0.00390625\n",
      "每台发电机组功率调整：-9.765625145519152e-05\n",
      "10500.0\n",
      "最终成本：121027.53125\n"
     ]
    }
   ],
   "source": [
    "dif = total_sum - 10500\n",
    "print(f\"总和不等于目标值，总和为：{total_sum}，目标值为：{10500}，差值为：{dif}\")\n",
    "\n",
    "dif = dif / 40.0\n",
    "print(f\"每台发电机组功率调整：{dif}\")\n",
    "\n",
    "x_final = monitor.get_best_solution() - dif\n",
    "\n",
    "sum_final = sum(x_final)\n",
    "print(sum_final)\n",
    "cost_final =  ((a * (x_final ** 2) + b * x_final + c).sum() + jnp.abs(g * jnp.sin(h * (10500 - x_final))).sum())\n",
    "print(f\"最终成本：{cost_final}\")"
   ]
  },
  {
   "cell_type": "code",
   "execution_count": 16,
   "metadata": {},
   "outputs": [
    {
     "name": "stdout",
     "output_type": "stream",
     "text": [
      "总和不等于目标值，总和为：10499.99609375，目标值为：10500，差值为：-0.00390625\n",
      "每台发电机组功率调整：-9.765625145519152e-05\n",
      "调整后的总和在容差范围内：10500.0\n",
      "最终的总和: 10500.0\n",
      "最终成本：121027.53125\n"
     ]
    }
   ],
   "source": [
    "# 1. 获取最优解\n",
    "x_final = monitor.get_best_solution()\n",
    "\n",
    "# 2. 开始调整循环，直到满足总和为10500且元素在上下界\n",
    "tolerance = 1e-1  # 设置一个容差，确保浮点运算不会导致无限循环\n",
    "target_sum = 10500\n",
    "\n",
    "while True:\n",
    "    # 计算当前总和的偏差\n",
    "    total_sum = jnp.sum(x_final)\n",
    "    dif = total_sum - target_sum\n",
    "    print(f\"总和不等于目标值，总和为：{total_sum}，目标值为：{target_sum}，差值为：{dif}\")\n",
    "\n",
    "    # 计算每个发电机需要调整的功率\n",
    "    dif_per_generator = dif / 40.0\n",
    "    print(f\"每台发电机组功率调整：{dif_per_generator}\")\n",
    "\n",
    "    # 3. 减去功率偏差\n",
    "    x_final = x_final - dif_per_generator\n",
    "\n",
    "    # 4. 将 x_final 限制在 lb 和 ub 之间\n",
    "    x_final = jnp.clip(x_final, lb, ub)\n",
    "\n",
    "    # 5. 重新计算缩放后的总和\n",
    "    sum_final = jnp.sum(x_final)\n",
    "\n",
    "    # 如果缩放后的总和仍然不等于 10500，重新进行缩放调整\n",
    "    if jnp.abs(sum_final - target_sum) < tolerance:\n",
    "        print(f\"调整后的总和在容差范围内：{sum_final}\")\n",
    "        break  # 如果总和已经在容差范围内，则退出循环\n",
    "\n",
    "    # 如果总和不等于10500，则通过缩放调整整个数组\n",
    "    scaling_factor = target_sum / sum_final\n",
    "    x_final = x_final * scaling_factor\n",
    "\n",
    "    # 确保缩放后的 x_final 仍然在 lb 和 ub 之间\n",
    "    x_final = jnp.clip(x_final, lb, ub)\n",
    "\n",
    "# 6. 重新计算总和和成本\n",
    "sum_final = jnp.sum(x_final)\n",
    "print(f\"最终的总和: {sum_final}\")\n",
    "\n",
    "# 计算最终成本\n",
    "cost_final = ((a * (x_final ** 2) + b * x_final + c).sum() + \n",
    "              jnp.abs(g * jnp.sin(h * (target_sum - x_final))).sum())\n",
    "print(f\"最终成本：{cost_final}\")"
   ]
  },
  {
   "cell_type": "code",
   "execution_count": 17,
   "metadata": {},
   "outputs": [],
   "source": [
    "# 获取历史数据并计算累积最小值\n",
    "history = jnp.array(monitor.get_history())\n",
    "\n",
    "# 先计算每一代的最小值\n",
    "min_per_gen = jnp.min(history, axis=1)\n",
    "# 使用jax.lax.cummin计算累积最小值\n",
    "final_fitness = jax.lax.cummin(min_per_gen, axis=0)"
   ]
  },
  {
   "cell_type": "code",
   "execution_count": 18,
   "metadata": {},
   "outputs": [
    {
     "name": "stdout",
     "output_type": "stream",
     "text": [
      "[121027.47 121027.47 121027.47 121027.47 121027.47 121027.47 121027.47\n",
      " 121027.47 121027.47 121027.47 121027.47 121027.47 121027.47 121027.47\n",
      " 121027.47 121027.47 121027.47 121027.47 121027.47 121027.47 121027.47\n",
      " 121027.47 121027.47 121027.47 121027.47 121027.47 121027.47 121027.47\n",
      " 121027.47 121027.47 121027.47 121027.47 121027.47 121027.47 121027.47\n",
      " 121027.47 121027.47 121027.47 121027.47 121027.47 121027.47 121027.47\n",
      " 121027.47 121027.47 121027.47 121027.47 121027.47 121027.47 121027.47\n",
      " 121027.47 121027.47 121027.47 121027.47 121027.47 121027.47 121027.47\n",
      " 121027.47 121027.47 121027.47 121027.47 121027.47 121027.47 121027.47\n",
      " 121027.47 121027.47 121027.47 121027.47 121027.47 121027.47 121027.47\n",
      " 121027.47 121027.47 121027.47 121027.47 121027.47 121027.47 121027.47\n",
      " 121027.47 121027.47 121027.47 121027.47 121027.47 121027.47 121027.47\n",
      " 121027.47 121027.47 121027.47 121027.47 121027.47 121027.47 121027.47\n",
      " 121027.47 121027.47 121027.47 121027.47 121027.47 121027.47 121027.47\n",
      " 121027.47 121027.47 121027.47 121027.47 121027.47 121027.47 121027.47\n",
      " 121027.47 121027.47 121027.47 121027.47 121027.47 121027.47 121027.47\n",
      " 121027.47 121027.47 121027.47 121027.47 121027.47 121027.47 121027.47\n",
      " 121027.47 121027.47 121027.47 121027.47 121027.47 121027.47 121027.47\n",
      " 121027.47 121027.47 121027.47 121027.47 121027.47 121027.47 121027.47\n",
      " 121027.47 121027.47 121027.47 121027.47 121027.47 121027.47 121027.47\n",
      " 121027.47 121027.47 121027.47 121027.47 121027.47 121027.47 121027.47\n",
      " 121027.47 121027.47 121027.47 121027.47 121027.47 121027.47 121027.47\n",
      " 121027.47 121027.47 121027.47 121027.47 121027.47 121027.47 121027.47\n",
      " 121027.47 121027.47 121027.47 121027.47 121027.47 121027.47 121027.47\n",
      " 121027.47 121027.47 121027.47 121027.47 121027.47 121027.47 121027.47\n",
      " 121027.47 121027.47 121027.47 121027.47 121027.47 121027.47 121027.47\n",
      " 121027.47 121027.47 121027.47 121027.47 121027.47 121027.47 121027.47\n",
      " 121027.47 121027.47 121027.47 121027.47 121027.47 121027.47 121027.47\n",
      " 121027.47 121027.47 121027.47 121027.47 121027.47 121027.47 121027.47\n",
      " 121027.47 121027.47 121027.47 121027.47 121027.47 121027.47 121027.47\n",
      " 121027.47 121027.47 121027.47 121027.47 121027.47 121027.47 121027.47\n",
      " 121027.47 121027.47 121027.47 121027.47 121027.47 121027.47 121027.47\n",
      " 121027.47 121027.47 121027.47 121027.47 121027.47 121027.47 121027.47\n",
      " 121027.47 121027.47 121027.47 121027.47 121027.47 121027.47 121027.47\n",
      " 121027.47 121027.47 121027.47 121027.47 121027.47 121027.47 121027.47\n",
      " 121027.47 121027.47 121027.47 121027.47 121027.47 121027.47 121027.47\n",
      " 121027.47 121027.47 121027.47 121027.47 121027.47 121027.47 121027.47\n",
      " 121027.47 121027.47 121027.47 121027.47 121027.47 121027.47 121027.47\n",
      " 121027.47 121027.47 121027.47 121027.47 121027.47 121027.47 121027.47\n",
      " 121027.47 121027.47 121027.47 121027.47 121027.47 121027.47 121027.47\n",
      " 121027.47 121027.47 121027.47 121027.47 121027.47 121027.47 121027.47\n",
      " 121027.47 121027.47 121027.47 121027.47 121027.47 121027.47 121027.47\n",
      " 121027.47 121027.47 121027.47 121027.47 121027.47 121027.47 121027.47\n",
      " 121027.47 121027.47 121027.47 121027.47 121027.47 121027.47 121027.47\n",
      " 121027.47 121027.47 121027.47 121027.47 121027.47 121027.47 121027.47\n",
      " 121027.47 121027.47 121027.47 121027.47 121027.47 121027.47 121027.47\n",
      " 121027.47 121027.47 121027.47 121027.47 121027.47 121027.47 121027.47\n",
      " 121027.47 121027.47 121027.47 121027.47 121027.47 121027.47 121027.47\n",
      " 121027.47 121027.47 121027.47 121027.47 121027.47 121027.47 121027.47\n",
      " 121027.47 121027.47 121027.47 121027.47 121027.47 121027.47 121027.47\n",
      " 121027.47 121027.47 121027.47 121027.47 121027.47 121027.47 121027.47\n",
      " 121027.47 121027.47 121027.47 121027.47 121027.47 121027.47 121027.47\n",
      " 121027.47 121027.47 121027.47 121027.47 121027.47 121027.47 121027.47\n",
      " 121027.47 121027.47 121027.47 121027.47 121027.47 121027.47 121027.47\n",
      " 121027.47 121027.47 121027.47 121027.47 121027.47 121027.47 121027.47\n",
      " 121027.47 121027.47 121027.47 121027.47 121027.47 121027.47 121027.47\n",
      " 121027.47 121027.47 121027.47 121027.47 121027.47 121027.47 121027.47\n",
      " 121027.47 121027.47 121027.47 121027.47 121027.47 121027.47 121027.47\n",
      " 121027.47 121027.47 121027.47 121027.47 121027.47 121027.47 121027.47\n",
      " 121027.47 121027.47 121027.47 121027.47 121027.47 121027.47 121027.47\n",
      " 121027.47 121027.47 121027.47 121027.47 121027.47 121027.47 121027.47\n",
      " 121027.47 121027.47 121027.47 121027.47 121027.47 121027.47 121027.47\n",
      " 121027.47 121027.47 121027.47 121027.47 121027.47 121027.47 121027.47\n",
      " 121027.47 121027.47 121027.47 121027.47 121027.47 121027.47 121027.47\n",
      " 121027.47 121027.47 121027.47 121027.47 121027.47 121027.47 121027.47\n",
      " 121027.47 121027.47 121027.47 121027.47 121027.47 121027.47 121027.47\n",
      " 121027.47 121027.47 121027.47 121027.47 121027.47 121027.47 121027.47\n",
      " 121027.47 121027.47 121027.47 121027.47 121027.47 121027.47 121027.47\n",
      " 121027.47 121027.47 121027.47 121027.47 121027.47 121027.47 121027.47\n",
      " 121027.47 121027.47 121027.47 121027.47 121027.47 121027.47 121027.47\n",
      " 121027.47 121027.47 121027.47 121027.47 121027.47 121027.47 121027.47\n",
      " 121027.47 121027.47 121027.47]\n",
      "500\n"
     ]
    }
   ],
   "source": [
    "print(final_fitness)\n",
    "print(len(final_fitness))"
   ]
  },
  {
   "cell_type": "code",
   "execution_count": 19,
   "metadata": {},
   "outputs": [
    {
     "name": "stderr",
     "output_type": "stream",
     "text": [
      "findfont: Generic family 'sans-serif' not found because none of the following families were found: Microsoft YaHei\n",
      "findfont: Generic family 'sans-serif' not found because none of the following families were found: Microsoft YaHei\n",
      "findfont: Generic family 'sans-serif' not found because none of the following families were found: Microsoft YaHei\n",
      "findfont: Generic family 'sans-serif' not found because none of the following families were found: Microsoft YaHei\n",
      "findfont: Generic family 'sans-serif' not found because none of the following families were found: Microsoft YaHei\n",
      "findfont: Generic family 'sans-serif' not found because none of the following families were found: Microsoft YaHei\n",
      "findfont: Generic family 'sans-serif' not found because none of the following families were found: Microsoft YaHei\n",
      "findfont: Generic family 'sans-serif' not found because none of the following families were found: Microsoft YaHei\n",
      "/home/cyh/micromamba/envs/evosax/lib/python3.10/site-packages/IPython/core/pylabtools.py:170: UserWarning: Glyph 36866 (\\N{CJK UNIFIED IDEOGRAPH-9002}) missing from font(s) DejaVu Sans.\n",
      "  fig.canvas.print_figure(bytes_io, **kw)\n",
      "/home/cyh/micromamba/envs/evosax/lib/python3.10/site-packages/IPython/core/pylabtools.py:170: UserWarning: Glyph 24212 (\\N{CJK UNIFIED IDEOGRAPH-5E94}) missing from font(s) DejaVu Sans.\n",
      "  fig.canvas.print_figure(bytes_io, **kw)\n",
      "/home/cyh/micromamba/envs/evosax/lib/python3.10/site-packages/IPython/core/pylabtools.py:170: UserWarning: Glyph 24230 (\\N{CJK UNIFIED IDEOGRAPH-5EA6}) missing from font(s) DejaVu Sans.\n",
      "  fig.canvas.print_figure(bytes_io, **kw)\n",
      "/home/cyh/micromamba/envs/evosax/lib/python3.10/site-packages/IPython/core/pylabtools.py:170: UserWarning: Glyph 20540 (\\N{CJK UNIFIED IDEOGRAPH-503C}) missing from font(s) DejaVu Sans.\n",
      "  fig.canvas.print_figure(bytes_io, **kw)\n",
      "findfont: Generic family 'sans-serif' not found because none of the following families were found: Microsoft YaHei\n",
      "findfont: Generic family 'sans-serif' not found because none of the following families were found: Microsoft YaHei\n",
      "/home/cyh/micromamba/envs/evosax/lib/python3.10/site-packages/IPython/core/pylabtools.py:170: UserWarning: Glyph 31639 (\\N{CJK UNIFIED IDEOGRAPH-7B97}) missing from font(s) DejaVu Sans.\n",
      "  fig.canvas.print_figure(bytes_io, **kw)\n",
      "/home/cyh/micromamba/envs/evosax/lib/python3.10/site-packages/IPython/core/pylabtools.py:170: UserWarning: Glyph 27861 (\\N{CJK UNIFIED IDEOGRAPH-6CD5}) missing from font(s) DejaVu Sans.\n",
      "  fig.canvas.print_figure(bytes_io, **kw)\n",
      "/home/cyh/micromamba/envs/evosax/lib/python3.10/site-packages/IPython/core/pylabtools.py:170: UserWarning: Glyph 20248 (\\N{CJK UNIFIED IDEOGRAPH-4F18}) missing from font(s) DejaVu Sans.\n",
      "  fig.canvas.print_figure(bytes_io, **kw)\n",
      "/home/cyh/micromamba/envs/evosax/lib/python3.10/site-packages/IPython/core/pylabtools.py:170: UserWarning: Glyph 21270 (\\N{CJK UNIFIED IDEOGRAPH-5316}) missing from font(s) DejaVu Sans.\n",
      "  fig.canvas.print_figure(bytes_io, **kw)\n",
      "/home/cyh/micromamba/envs/evosax/lib/python3.10/site-packages/IPython/core/pylabtools.py:170: UserWarning: Glyph 36807 (\\N{CJK UNIFIED IDEOGRAPH-8FC7}) missing from font(s) DejaVu Sans.\n",
      "  fig.canvas.print_figure(bytes_io, **kw)\n",
      "/home/cyh/micromamba/envs/evosax/lib/python3.10/site-packages/IPython/core/pylabtools.py:170: UserWarning: Glyph 31243 (\\N{CJK UNIFIED IDEOGRAPH-7A0B}) missing from font(s) DejaVu Sans.\n",
      "  fig.canvas.print_figure(bytes_io, **kw)\n",
      "findfont: Generic family 'sans-serif' not found because none of the following families were found: Microsoft YaHei\n",
      "findfont: Generic family 'sans-serif' not found because none of the following families were found: Microsoft YaHei\n",
      "findfont: Generic family 'sans-serif' not found because none of the following families were found: Microsoft YaHei\n",
      "findfont: Generic family 'sans-serif' not found because none of the following families were found: Microsoft YaHei\n",
      "findfont: Generic family 'sans-serif' not found because none of the following families were found: Microsoft YaHei\n",
      "findfont: Generic family 'sans-serif' not found because none of the following families were found: Microsoft YaHei\n",
      "findfont: Generic family 'sans-serif' not found because none of the following families were found: Microsoft YaHei\n",
      "/home/cyh/micromamba/envs/evosax/lib/python3.10/site-packages/IPython/core/pylabtools.py:170: UserWarning: Glyph 36845 (\\N{CJK UNIFIED IDEOGRAPH-8FED}) missing from font(s) DejaVu Sans.\n",
      "  fig.canvas.print_figure(bytes_io, **kw)\n",
      "/home/cyh/micromamba/envs/evosax/lib/python3.10/site-packages/IPython/core/pylabtools.py:170: UserWarning: Glyph 20195 (\\N{CJK UNIFIED IDEOGRAPH-4EE3}) missing from font(s) DejaVu Sans.\n",
      "  fig.canvas.print_figure(bytes_io, **kw)\n",
      "/home/cyh/micromamba/envs/evosax/lib/python3.10/site-packages/IPython/core/pylabtools.py:170: UserWarning: Glyph 27425 (\\N{CJK UNIFIED IDEOGRAPH-6B21}) missing from font(s) DejaVu Sans.\n",
      "  fig.canvas.print_figure(bytes_io, **kw)\n",
      "/home/cyh/micromamba/envs/evosax/lib/python3.10/site-packages/IPython/core/pylabtools.py:170: UserWarning: Glyph 25968 (\\N{CJK UNIFIED IDEOGRAPH-6570}) missing from font(s) DejaVu Sans.\n",
      "  fig.canvas.print_figure(bytes_io, **kw)\n",
      "findfont: Generic family 'sans-serif' not found because none of the following families were found: Microsoft YaHei\n",
      "findfont: Generic family 'sans-serif' not found because none of the following families were found: Microsoft YaHei\n",
      "/home/cyh/micromamba/envs/evosax/lib/python3.10/site-packages/IPython/core/pylabtools.py:170: UserWarning: Glyph 27599 (\\N{CJK UNIFIED IDEOGRAPH-6BCF}) missing from font(s) DejaVu Sans.\n",
      "  fig.canvas.print_figure(bytes_io, **kw)\n",
      "/home/cyh/micromamba/envs/evosax/lib/python3.10/site-packages/IPython/core/pylabtools.py:170: UserWarning: Glyph 26368 (\\N{CJK UNIFIED IDEOGRAPH-6700}) missing from font(s) DejaVu Sans.\n",
      "  fig.canvas.print_figure(bytes_io, **kw)\n",
      "/home/cyh/micromamba/envs/evosax/lib/python3.10/site-packages/IPython/core/pylabtools.py:170: UserWarning: Glyph 20339 (\\N{CJK UNIFIED IDEOGRAPH-4F73}) missing from font(s) DejaVu Sans.\n",
      "  fig.canvas.print_figure(bytes_io, **kw)\n",
      "findfont: Generic family 'sans-serif' not found because none of the following families were found: Microsoft YaHei\n",
      "findfont: Generic family 'sans-serif' not found because none of the following families were found: Microsoft YaHei\n",
      "findfont: Generic family 'sans-serif' not found because none of the following families were found: Microsoft YaHei\n",
      "findfont: Generic family 'sans-serif' not found because none of the following families were found: Microsoft YaHei\n",
      "findfont: Generic family 'sans-serif' not found because none of the following families were found: Microsoft YaHei\n",
      "findfont: Generic family 'sans-serif' not found because none of the following families were found: Microsoft YaHei\n",
      "findfont: Generic family 'sans-serif' not found because none of the following families were found: Microsoft YaHei\n",
      "findfont: Generic family 'sans-serif' not found because none of the following families were found: Microsoft YaHei\n",
      "findfont: Generic family 'sans-serif' not found because none of the following families were found: Microsoft YaHei\n",
      "findfont: Generic family 'sans-serif' not found because none of the following families were found: Microsoft YaHei\n",
      "findfont: Generic family 'sans-serif' not found because none of the following families were found: Microsoft YaHei\n",
      "findfont: Generic family 'sans-serif' not found because none of the following families were found: Microsoft YaHei\n",
      "findfont: Generic family 'sans-serif' not found because none of the following families were found: Microsoft YaHei\n",
      "findfont: Generic family 'sans-serif' not found because none of the following families were found: Microsoft YaHei\n",
      "findfont: Generic family 'sans-serif' not found because none of the following families were found: Microsoft YaHei\n",
      "findfont: Generic family 'sans-serif' not found because none of the following families were found: Microsoft YaHei\n",
      "findfont: Generic family 'sans-serif' not found because none of the following families were found: Microsoft YaHei\n",
      "findfont: Generic family 'sans-serif' not found because none of the following families were found: Microsoft YaHei\n",
      "findfont: Generic family 'sans-serif' not found because none of the following families were found: Microsoft YaHei\n",
      "findfont: Generic family 'sans-serif' not found because none of the following families were found: Microsoft YaHei\n",
      "findfont: Generic family 'sans-serif' not found because none of the following families were found: Microsoft YaHei\n",
      "findfont: Generic family 'sans-serif' not found because none of the following families were found: Microsoft YaHei\n",
      "findfont: Generic family 'sans-serif' not found because none of the following families were found: Microsoft YaHei\n",
      "findfont: Generic family 'sans-serif' not found because none of the following families were found: Microsoft YaHei\n",
      "findfont: Generic family 'sans-serif' not found because none of the following families were found: Microsoft YaHei\n",
      "findfont: Generic family 'sans-serif' not found because none of the following families were found: Microsoft YaHei\n",
      "findfont: Generic family 'sans-serif' not found because none of the following families were found: Microsoft YaHei\n",
      "findfont: Generic family 'sans-serif' not found because none of the following families were found: Microsoft YaHei\n",
      "findfont: Generic family 'sans-serif' not found because none of the following families were found: Microsoft YaHei\n",
      "findfont: Generic family 'sans-serif' not found because none of the following families were found: Microsoft YaHei\n",
      "findfont: Generic family 'sans-serif' not found because none of the following families were found: Microsoft YaHei\n",
      "findfont: Generic family 'sans-serif' not found because none of the following families were found: Microsoft YaHei\n",
      "findfont: Generic family 'sans-serif' not found because none of the following families were found: Microsoft YaHei\n",
      "findfont: Generic family 'sans-serif' not found because none of the following families were found: Microsoft YaHei\n",
      "findfont: Generic family 'sans-serif' not found because none of the following families were found: Microsoft YaHei\n",
      "findfont: Generic family 'sans-serif' not found because none of the following families were found: Microsoft YaHei\n",
      "findfont: Generic family 'sans-serif' not found because none of the following families were found: Microsoft YaHei\n",
      "findfont: Generic family 'sans-serif' not found because none of the following families were found: Microsoft YaHei\n",
      "findfont: Generic family 'sans-serif' not found because none of the following families were found: Microsoft YaHei\n",
      "findfont: Generic family 'sans-serif' not found because none of the following families were found: Microsoft YaHei\n",
      "findfont: Generic family 'sans-serif' not found because none of the following families were found: Microsoft YaHei\n",
      "findfont: Generic family 'sans-serif' not found because none of the following families were found: Microsoft YaHei\n",
      "findfont: Generic family 'sans-serif' not found because none of the following families were found: Microsoft YaHei\n",
      "findfont: Generic family 'sans-serif' not found because none of the following families were found: Microsoft YaHei\n"
     ]
    },
    {
     "data": {
      "image/png": "[encoded data removed]",
      "text/plain": [
       "<Figure size 1200x600 with 1 Axes>"
      ]
     },
     "metadata": {},
     "output_type": "display_data"
    }
   ],
   "source": [
    "import matplotlib.pyplot as plt\n",
    "\n",
    "plt.rcParams['font.family'] = ['sans-serif']\n",
    "# 使用系统已安装的中文字体，比如微软雅黑\n",
    "plt.rcParams['font.sans-serif'] = ['Microsoft YaHei'] \n",
    "plt.rcParams['axes.unicode_minus'] = False  # 解决负号显示问题\n",
    "\n",
    "plt.figure(figsize=(12, 6))\n",
    "plt.plot(final_fitness, label='每代最佳适应度')\n",
    "#plt.plot(global_best_fitness, label='全局最佳适应度')\n",
    "plt.xlabel('迭代次数')\n",
    "plt.ylabel('适应度值')\n",
    "plt.title('PSO算法优化过程')\n",
    "plt.legend()\n",
    "plt.grid(True)\n",
    "plt.show()"
   ]
  }
 ],
 "metadata": {
  "kernelspec": {
   "display_name": "Python 3",
   "language": "python",
   "name": "python3"
  },
  "language_info": {
   "codemirror_mode": {
    "name": "ipython",
    "version": 3
   },
   "file_extension": ".py",
   "mimetype": "text/x-python",
   "name": "python",
   "nbconvert_exporter": "python",
   "pygments_lexer": "ipython3",
   "version": "3.10.14"
  }
 },
 "nbformat": 4,
 "nbformat_minor": 2
}
