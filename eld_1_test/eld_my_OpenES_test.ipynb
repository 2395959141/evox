{
 "cells": [
  {
   "cell_type": "code",
   "execution_count": 33,
   "metadata": {},
   "outputs": [],
   "source": [
    "import jax\n",
    "from evox import Problem, algorithms,jit_class, monitors, workflows\n",
    "from evox.operators import mutation, crossover, selection\n",
    "from jax import random\n",
    "import jax.numpy as jnp\n",
    "\n",
    "import sys\n",
    "sys.path.append('../my_es_algorithm')  # 添加路径到系统路径"
   ]
  },
  {
   "cell_type": "code",
   "execution_count": 34,
   "metadata": {},
   "outputs": [],
   "source": [
    "Pd=10500\n",
    "    \n",
    "a=jnp.array([0.0069, 0.0069, 0.02028, 0.00942, 0.0114, 0.01142, 0.00357, 0.00492,\n",
    "                        0.00573, 0.00605, 0.00515, 0.00569, 0.00421, 0.00752, 0.00708, 0.00708,\n",
    "                        0.0031, 0.00313, 0.00313, 0.00313, 0.00298, 0.00298, 0.00284, 0.00284, 0.00277,\n",
    "                        0.00277, 0.52124, 0.52124, 0.52124, 0.0114, 0.0016, 0.0016, 0.0016, 0.0001,\n",
    "                        0.0001, 0.0001, 0.0161, 0.0161, 0.0161, 0.00313])\n",
    "b=jnp.array([6.7300, 6.7300, 7.0700, 8.1800, 5.3500, 8.0500, 8.0300, 6.9900, 6.6000, 12.9000,\n",
    "                        12.9000, 12.8000, 12.5000, 8.8400, 9.1500, 9.1500, 7.9700, 7.9500, 7.9700, 7.9700,\n",
    "                         6.6300, 6.6300, 6.6600, 6.6600, 7.1000, 7.1000, 3.3300, 3.3300, 3.3300, 5.3500,\n",
    "                         6.4300, 6.4300, 6.4300, 8.9500, 8.6200, 8.6200, 5.8800, 5.8800, 5.8800, 7.9700])\n",
    "c=jnp.array([0.094705, 0.094705, 0.30954, 0.36903, 0.14889, 0.22233, 0.28771, 0.39198,\n",
    "                        0.45576, 0.72282, 0.6352, 0.65469, 0.9134, 1.7604, 1.7283, 1.7283, 0.64785,\n",
    "                        0.64969, 0.64783, 0.64781, 0.78596, 0.78596, 0.79453, 0.79453, 0.80132, 0.80132,\n",
    "                        1.0551, 1.0551, 1.0551, 0.14889, 0.22292, 0.22292, 0.22292, 0.10787, 0.11658,\n",
    "                        0.11658, 0.30745, 0.30745, 0.30745, 0.64783]) * 1000\n",
    "g=jnp.array([\n",
    "                100, 100, 100, 150, 120, 100, 200, 200, 200, 200, 200, 200, 300, 300, 300, 300,\n",
    "                300, 300, 300, 300, 300, 300, 300, 300, 300, 300, 120, 120, 120, 120, 150, 150,\n",
    "                150, 200, 200, 200, 80, 80, 80, 300\n",
    "            ])\n",
    "\n",
    "h=jnp.array([\n",
    "                0.0840, 0.0840, 0.0840, 0.0630, 0.0770, 0.0840, 0.0420, 0.0420, 0.0420, 0.0420,\n",
    "                0.0420, 0.0420, 0.0350, 0.0350, 0.0350, 0.0350, 0.0350, 0.0350, 0.0350, 0.0350,\n",
    "                0.0350, 0.0350, 0.0350, 0.0350, 0.0350, 0.0350, 0.0770, 0.0770, 0.0770, 0.0770,\n",
    "                0.0630, 0.0630, 0.0630, 0.0420, 0.0420, 0.0420, 0.0980, 0.0980, 0.0980, 0.0350\n",
    "            ])\n",
    "lb=jnp.array([36, 36, 60, 80, 47, 68, 110, 135, 135, 130, 94, 94, 125, 125, 125,\n",
    "                           125, 220, 220, 242, 242, 254, 254, 254, 254, 254, 254, 10, 10, 10,\n",
    "                           47, 60, 60, 60, 90, 90, 90, 25, 25, 25, 242])\n",
    "ub=jnp.array([114, 114, 120, 190, 97, 140, 300, 300, 300, 300, 375, 375, 500, 500,\n",
    "                           500, 500, 500, 500, 550, 550, 550, 550, 550, 550, 550, 550, 150, 150,\n",
    "                           150, 97, 190, 190, 190, 200, 200, 200, 110, 110, 110, 550])"
   ]
  },
  {
   "cell_type": "code",
   "execution_count": 35,
   "metadata": {},
   "outputs": [
    {
     "name": "stdout",
     "output_type": "stream",
     "text": [
      "[ 50.452946  71.743164 120.       190.        97.        94.217514\n",
      " 165.93658  300.       300.       197.93858  375.       120.08821\n",
      " 365.22363  181.1079   201.60548  500.       500.       500.\n",
      " 550.       550.       405.20096  517.7552   550.       346.80945\n",
      " 519.1493   401.31702   87.787254 116.93457  150.        80.10183\n",
      " 143.02684  138.74217  190.       118.06074  112.88136  185.89024\n",
      " 110.        65.95288   50.843006 299.49225 ]\n"
     ]
    }
   ],
   "source": [
    "def initialize_center_with_constraints(key, Pd, lb, ub):\n",
    "    n = lb.shape[0]  # 获取向量的长度\n",
    "    # 1. 随机生成一个在 [lb, ub] 之间的初始向量\n",
    "    random_init = jax.random.uniform(key, shape=(n,), minval=0.0, maxval=1.0)\n",
    "    \n",
    "    # 2. 通过线性插值将 random_init 映射到 [lb, ub] 之间\n",
    "    scaled_init = lb + random_init * (ub - lb)\n",
    "    \n",
    "    # 3. 计算当前随机向量的和\n",
    "    sum_scaled_init = jnp.sum(scaled_init)\n",
    "    \n",
    "    # 4. 将向量调整为和等于 Pd\n",
    "    center_init = scaled_init * (Pd / sum_scaled_init)  # 重新缩放以使其和为 Pd\n",
    "    \n",
    "    # 5. 确保调整后的值仍然在 [lb, ub] 之间\n",
    "    center_init = jnp.clip(center_init, lb, ub)\n",
    "    \n",
    "    return center_init\n",
    "\n",
    "key = random.PRNGKey(2)\n",
    "center_init = initialize_center_with_constraints(key, Pd, lb, ub)\n",
    "print(center_init)"
   ]
  },
  {
   "cell_type": "code",
   "execution_count": 36,
   "metadata": {},
   "outputs": [
    {
     "name": "stdout",
     "output_type": "stream",
     "text": [
      "10020.26\n"
     ]
    }
   ],
   "source": [
    "print(sum(center_init))"
   ]
  },
  {
   "cell_type": "code",
   "execution_count": 37,
   "metadata": {},
   "outputs": [],
   "source": [
    "\n",
    "\n",
    "def adjust_population_average(x, Pd, lb, ub):#单词平均调整\n",
    "    n = x.shape[0]  # 获取发电机的数量  \n",
    "    sumpop = jnp.sum(x)  # 计算所有发电机功率的总和\n",
    "    df = sumpop - Pd  # 计算功率偏差\n",
    "\n",
    "    # 计算每个发电机需要减少的平均功率\n",
    "    df_per_generator = df / n\n",
    "    \n",
    "    # 从每个发电机的功率中减去平均偏差\n",
    "    x_adjusted = x - df_per_generator\n",
    "    \n",
    "    # 确保更新后的值逐元素不超出上下限\n",
    "    x_adjusted = jnp.clip(x_adjusted, lb, ub)\n",
    "    \n",
    "    return x_adjusted\n",
    "\n",
    "\n",
    "def adjust_population_random(x, Pd, key, lb, ub):   #单次调整\n",
    "    n = x.shape[0]  # 获取发电机的数量  \n",
    "    sumpop = jnp.sum(x)  # 计算所有发电机功率的总和\n",
    "    df = sumpop - Pd  # 计算功率偏差\n",
    "\n",
    "    r = random.randint(key, shape=(), minval=0, maxval=n+1) #生成随机数\n",
    "    # 从第r个发电机中减去总偏差\n",
    "    x = x.at[r].set(x[r] - df)  # 使用 .at[].set() 更新特定索引的值\n",
    "\n",
    "    # 确保更新后的值逐元素不超出上下限\n",
    "    # x = jnp.clip(x, lb, ub)\n",
    "\n",
    "    return x\n",
    "\n",
    "\n",
    "def adjust_population_random_loop(x, Pd, key, lb, ub, tolerance=1e-1):  # 多次调整\n",
    "    n = x.shape[0]  # 获取发电机的数量\n",
    "\n",
    "    def cond_fun(state):\n",
    "        x, sumpop, df, r = state\n",
    "        return jnp.abs(sumpop - Pd) >= tolerance\n",
    "\n",
    "    def body_fun(state):\n",
    "        x, sumpop, df, r = state\n",
    "        df = sumpop - Pd  # 计算功率偏差\n",
    "        r = random.randint(key, shape=(), minval=0, maxval=n+1)  # 生成随机数\n",
    "        x = x.at[r].set(x[r] - df)  # 使用 .at[].set() 更新特定索引的值\n",
    "        # x = jnp.clip(x, lb, ub)  # 确保更新后的值不超出上下限\n",
    "        sumpop = jnp.sum(x)  # 计算更新后所有发电机功率的总和\n",
    "        return x, sumpop, df, r\n",
    "\n",
    "    state = (x, jnp.sum(x), 0, 0)\n",
    "    x, _, _, _ = jax.lax.while_loop(cond_fun, body_fun, state)\n",
    "    return x\n",
    "\n",
    "def _eld_openes(x):\n",
    "\n",
    "    # x = adjust_population_average(x, Pd, lb, ub)\n",
    "    key = random.PRNGKey(42)\n",
    "    #x = adjust_population_random(x, Pd, key, lb, ub) #随机选择发电机调整\n",
    "    #x = adjust_population_average(x, Pd, lb, ub) #机组平均调整\n",
    "    x = adjust_population_random_loop(x, Pd, key, lb, ub, tolerance=1e-1)#多次随机选择发电机调整\n",
    "    # x = jnp.clip(x, lb, ub)  # 确保更新后的值不超出上下限\n",
    "            \n",
    "    return ((a * (x ** 2) + b * x + c).sum() + jnp.abs(g * jnp.sin(h * (Pd - x))).sum())\n",
    "\n",
    "\n",
    "\n",
    "def eld_openes(x):\n",
    "    return jax.vmap(_eld_openes, in_axes= 0)(x)\n",
    "\n",
    "\n",
    "\n",
    "# @evox.jit_class\n",
    "class ELD_OpenES(Problem):\n",
    "    def __init__(self):\n",
    "        super().__init__()\n",
    " \n",
    "    def evaluate(self, State, x):\n",
    "        return eld_openes(x), State"
   ]
  },
  {
   "cell_type": "code",
   "execution_count": 38,
   "metadata": {},
   "outputs": [
    {
     "name": "stdout",
     "output_type": "stream",
     "text": [
      "[ 75.   75.   90.  135.   72.  104.  205.  217.5 217.5 215.  234.5 234.5\n",
      " 312.5 312.5 312.5 312.5 360.  360.  396.  396.  402.  402.  402.  402.\n",
      " 402.  402.   80.   80.   80.   72.  125.  125.  125.  145.  145.  145.\n",
      "  67.5  67.5  67.5 396. ]\n"
     ]
    }
   ],
   "source": [
    "print((lb+ub)/2)"
   ]
  },
  {
   "cell_type": "code",
   "execution_count": 39,
   "metadata": {},
   "outputs": [],
   "source": [
    "pso_solution_final= jnp.array([113.999825, 103.04714 , 102.82418 , 177.62437 ,  97.      ,\n",
    "       140.      , 252.42818 , 252.42494 , 300.      , 177.62404 ,\n",
    "       102.82394 , 102.82468 , 267.38474 , 357.14398 , 267.38406 ,\n",
    "       357.14386 , 446.90372 , 446.9047  , 536.6643  , 536.66425 ,\n",
    "       536.6643  , 536.66406 , 536.6644  , 550.      , 536.6664  ,\n",
    "       536.66437 ,  14.423578,  10.      ,  14.423418,  96.99942 ,\n",
    "       190.      , 190.      , 190.      , 177.62439 , 199.99928 ,\n",
    "       177.62628 , 109.999985, 110.      , 109.999916, 536.66455 ])"
   ]
  },
  {
   "cell_type": "code",
   "execution_count": 40,
   "metadata": {},
   "outputs": [],
   "source": [
    "from my_open_es import my_OpenES\n",
    "\n",
    "algorithm = my_OpenES(\n",
    "    center_init = pso_solution_final,\n",
    "    pop_size=10000,\n",
    "    learning_rate=0.01,\n",
    "    noise_stdev=0.05,\n",
    "    lb=lb,              # 设置下界为一维数组\n",
    "    ub=ub,              # 设置上界为一维数组\n",
    "    optimizer=None,\n",
    "    mirrored_sampling=False,\n",
    "    )\n"
   ]
  },
  {
   "cell_type": "code",
   "execution_count": 41,
   "metadata": {},
   "outputs": [],
   "source": [
    "#创建一个problem实例\n",
    "Problem = ELD_OpenES()\n",
    "\n",
    "monitor = monitors.EvalMonitor()\n",
    "# create a workflow\n",
    "workflow = workflows.StdWorkflow(\n",
    "    algorithm,\n",
    "    Problem,\n",
    "    monitors=[monitor],\n",
    ")"
   ]
  },
  {
   "cell_type": "code",
   "execution_count": 42,
   "metadata": {},
   "outputs": [
    {
     "name": "stdout",
     "output_type": "stream",
     "text": [
      "Time taken: 121.62994527816772 seconds\n"
     ]
    }
   ],
   "source": [
    "import time\n",
    "\n",
    "# init the workflow\n",
    "key = jax.random.PRNGKey(1)\n",
    "state = workflow.init(key)\n",
    "\n",
    "start_time = time.time()\n",
    "# run the workflow for 100 steps\n",
    "for i in range(100000):\n",
    "    state = workflow.step(state)\n",
    "\n",
    "end_time = time.time()\n",
    "print(f\"Time taken: {end_time - start_time} seconds\")"
   ]
  },
  {
   "cell_type": "code",
   "execution_count": 49,
   "metadata": {},
   "outputs": [
    {
     "data": {
      "text/plain": [
       "Array(121137.29, dtype=float32)"
      ]
     },
     "execution_count": 49,
     "metadata": {},
     "output_type": "execute_result"
    }
   ],
   "source": [
    "monitor.get_best_fitness()"
   ]
  },
  {
   "cell_type": "code",
   "execution_count": 50,
   "metadata": {},
   "outputs": [
    {
     "data": {
      "text/plain": [
       "Array([113.96316  , 103.00911  , 102.86477  , 177.6111   ,  97.       ,\n",
       "       140.       , 252.4174   , 252.40036  , 299.98953  , 177.64003  ,\n",
       "       102.788826 , 102.794014 , 267.36902  , 357.14798  , 267.38907  ,\n",
       "       357.1592   , 446.8889   , 447.0208   , 536.70184  , 536.67786  ,\n",
       "       536.62756  , 536.76794  , 536.649    , 549.97485  , 536.679    ,\n",
       "       536.70105  ,  14.4220495,  10.029154 ,  14.418176 ,  96.994896 ,\n",
       "       189.96783  , 190.       , 189.97334  , 177.65314  , 200.       ,\n",
       "       177.62038  , 110.       , 109.989624 , 109.99269  , 536.6091   ],      dtype=float32)"
      ]
     },
     "execution_count": 50,
     "metadata": {},
     "output_type": "execute_result"
    }
   ],
   "source": [
    "monitor.get_best_solution()"
   ]
  },
  {
   "cell_type": "code",
   "execution_count": 51,
   "metadata": {},
   "outputs": [],
   "source": [
    "value = monitor.get_best_solution()\n",
    "\n",
    "lb= jnp.array([36, 36, 60, 80, 47, 68, 110, 135, 135, 130, 94, 94, 125, 125, 125,\n",
    "                           125, 220, 220, 242, 242, 254, 254, 254, 254, 254, 254, 10, 10, 10,\n",
    "                           47, 60, 60, 60, 90, 90, 90, 25, 25, 25, 242])\n",
    "ub= jnp.array([114, 114, 120, 190, 97, 140, 300, 300, 300, 300, 375, 375, 500, 500,\n",
    "                           500, 500, 500, 500, 550, 550, 550, 550, 550, 550, 550, 550, 150, 150,\n",
    "                           150, 97, 190, 190, 190, 200, 200, 200, 110, 110, 110, 550])\n",
    "for i, value in enumerate(value):\n",
    "    if value < lb[i] or value > ub[i]:\n",
    "        print(f\"Value {value} at index {i} is out of bounds.\")"
   ]
  },
  {
   "cell_type": "code",
   "execution_count": 52,
   "metadata": {},
   "outputs": [
    {
     "name": "stdout",
     "output_type": "stream",
     "text": [
      "总和不等于目标值，总和为：10499.90234375，目标值为：10500\n"
     ]
    }
   ],
   "source": [
    "# value = monitor.get_best_solution()\n",
    "value = monitor.get_best_solution()\n",
    "total_sum = sum(value)\n",
    "\n",
    "# 检查总和是否等于目标值\n",
    "if total_sum == 10500:\n",
    "    print(\"总和等于目标值。\")\n",
    "else:\n",
    "    print(f\"总和不等于目标值，总和为：{total_sum}，目标值为：{10500}\")"
   ]
  },
  {
   "cell_type": "code",
   "execution_count": 53,
   "metadata": {},
   "outputs": [
    {
     "name": "stdout",
     "output_type": "stream",
     "text": [
      "总和不等于目标值，总和为：10499.90234375，目标值为：10500，差值为：-0.09765625\n",
      "每台发电机组功率调整：-0.00244140625\n",
      "10499.999\n",
      "最终成本：121138.40625\n"
     ]
    }
   ],
   "source": [
    "dif = total_sum - 10500\n",
    "print(f\"总和不等于目标值，总和为：{total_sum}，目标值为：{10500}，差值为：{dif}\")\n",
    "\n",
    "dif = dif / 40.0\n",
    "print(f\"每台发电机组功率调整：{dif}\")\n",
    "\n",
    "x_final = monitor.get_best_solution() - dif\n",
    "\n",
    "sum_final = sum(x_final)\n",
    "print(sum_final)\n",
    "cost_final =  ((a * (x_final ** 2) + b * x_final + c).sum() + jnp.abs(g * jnp.sin(h * (10500 - x_final))).sum())\n",
    "print(f\"最终成本：{cost_final}\")"
   ]
  },
  {
   "cell_type": "code",
   "execution_count": 54,
   "metadata": {},
   "outputs": [
    {
     "name": "stdout",
     "output_type": "stream",
     "text": [
      "总和不等于目标值，总和为：10499.90234375，目标值为：10500，差值为：-0.09765625\n",
      "每台发电机组功率调整：-0.00244140625\n",
      "调整后的总和在容差范围内：10499.98828125\n",
      "最终的总和: 10499.98828125\n",
      "最终成本：121138.2890625\n"
     ]
    }
   ],
   "source": [
    "# 1. 获取最优解\n",
    "x_final = monitor.get_best_solution()\n",
    "\n",
    "# 2. 开始调整循环，直到满足总和为10500且元素在上下界\n",
    "tolerance = 1e-1  # 设置一个容差，确保浮点运算不会导致无限循环\n",
    "target_sum = 10500\n",
    "\n",
    "while True:\n",
    "    # 计算当前总和的偏差\n",
    "    total_sum = jnp.sum(x_final)\n",
    "    dif = total_sum - target_sum\n",
    "    print(f\"总和不等于目标值，总和为：{total_sum}，目标值为：{target_sum}，差值为：{dif}\")\n",
    "\n",
    "    # 计算每个发电机需要调整的功率\n",
    "    dif_per_generator = dif / 40.0\n",
    "    print(f\"每台发电机组功率调整：{dif_per_generator}\")\n",
    "\n",
    "    # 3. 减去功率偏差\n",
    "    x_final = x_final - dif_per_generator\n",
    "\n",
    "    # 4. 将 x_final 限制在 lb 和 ub 之间\n",
    "    x_final = jnp.clip(x_final, lb, ub)\n",
    "\n",
    "    # 5. 重新计算缩放后的总和\n",
    "    sum_final = jnp.sum(x_final)\n",
    "\n",
    "    # 如果缩放后的总和仍然不等于 10500，重新进行缩放调整\n",
    "    if jnp.abs(sum_final - target_sum) < tolerance:\n",
    "        print(f\"调整后的总和在容差范围内：{sum_final}\")\n",
    "        break  # 如果总和已经在容差范围内，则退出循环\n",
    "\n",
    "    # 如果总和不等于10500，则通过缩放调整整个数组\n",
    "    scaling_factor = target_sum / sum_final\n",
    "    x_final = x_final * scaling_factor\n",
    "\n",
    "    # 确保缩放后的 x_final 仍然在 lb 和 ub 之间\n",
    "    x_final = jnp.clip(x_final, lb, ub)\n",
    "\n",
    "# 6. 重新计算总和和成本\n",
    "sum_final = jnp.sum(x_final)\n",
    "print(f\"最终的总和: {sum_final}\")\n",
    "\n",
    "# 计算最终成本\n",
    "cost_final = ((a * (x_final ** 2) + b * x_final + c).sum() + \n",
    "              jnp.abs(g * jnp.sin(h * (target_sum - x_final))).sum())\n",
    "print(f\"最终成本：{cost_final}\")"
   ]
  }
 ],
 "metadata": {
  "kernelspec": {
   "display_name": "Python 3",
   "language": "python",
   "name": "python3"
  },
  "language_info": {
   "codemirror_mode": {
    "name": "ipython",
    "version": 3
   },
   "file_extension": ".py",
   "mimetype": "text/x-python",
   "name": "python",
   "nbconvert_exporter": "python",
   "pygments_lexer": "ipython3",
   "version": "3.10.14"
  }
 },
 "nbformat": 4,
 "nbformat_minor": 2
}
