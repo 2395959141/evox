{
 "cells": [
  {
   "cell_type": "markdown",
   "metadata": {},
   "source": [
    "# Custom algorithm and problem\n",
    "\n",
    "This this notebook, we will show how to use the `Algorithm` and `Problem` classes to create a custom algorithm and problem.\n",
    "We will use the one-max problem as an example.\n",
    "The one-max problem is a simple problem where the goal is to maximize the number of ones in a binary string.\n",
    "For example, the string `01011` has a fitness of 3."
   ]
  },
  {
   "cell_type": "code",
   "execution_count": 1,
   "metadata": {},
   "outputs": [],
   "source": [
    "# install evox, skip it if you have already installed evox\n",
    "try:\n",
    "    import evox\n",
    "except ImportError:\n",
    "    !pip install --disable-pip-version-check --upgrade -q evox\n",
    "    import evox"
   ]
  },
  {
   "cell_type": "code",
   "execution_count": 2,
   "metadata": {},
   "outputs": [],
   "source": [
    "from evox import Algorithm, Problem, State, jit_class, monitors, workflows\n",
    "from evox.operators import mutation, crossover, selection\n",
    "from jax import random\n",
    "import jax.numpy as jnp"
   ]
  },
  {
   "cell_type": "code",
   "execution_count": 3,
   "metadata": {},
   "outputs": [],
   "source": [
    "@jit_class\n",
    "class OneMax(Problem):\n",
    "    def __init__(self) -> None:\n",
    "        super().__init__()\n",
    "\n",
    "    def evaluate(self, state, bitstrings):\n",
    "        # bitstrings has shape (pop_size, num_bits)\n",
    "        # so sum along the axis 1.\n",
    "        fitness = jnp.sum(bitstrings, axis=1)\n",
    "        return fitness, state"
   ]
  },
  {
   "cell_type": "code",
   "execution_count": 4,
   "metadata": {},
   "outputs": [],
   "source": [
    "@jit_class\n",
    "class CustomGA(Algorithm):\n",
    "    def __init__(self, pop_size, ndim, flip_prob):\n",
    "        super().__init__()\n",
    "        # those are hyperparameters that stay fixed.\n",
    "        self.pop_size = pop_size\n",
    "        self.ndim = ndim\n",
    "        # the probability of fliping each bit\n",
    "        self.flip_prob = flip_prob\n",
    "\n",
    "    def setup(self, key):\n",
    "        # initialize the state\n",
    "        # state are mutable data like the population, offsprings\n",
    "        # the population is randomly initialized.\n",
    "        # we don't have any offspring now, but initialize it as a placeholder\n",
    "        # because jax want static shaped arrays.\n",
    "        key, subkey = random.split(key)\n",
    "        pop = random.uniform(subkey, (self.pop_size, self.ndim)) < 0.5\n",
    "        return State(\n",
    "            pop=pop,\n",
    "            offsprings=jnp.empty((self.pop_size * 2, self.ndim)),\n",
    "            fit=jnp.full((self.pop_size,), jnp.inf),\n",
    "            key=key,\n",
    "        )\n",
    "\n",
    "    def ask(self, state):\n",
    "        key, mut_key, x_key = random.split(state.key, 3)\n",
    "        # here we do mutation and crossover (reproduction)\n",
    "        # for simplicity, we didn't use any mating selections\n",
    "        # so the offspring is twice as large as the population\n",
    "        offsprings = jnp.concatenate(\n",
    "            (\n",
    "                mutation.bitflip(mut_key, state.pop, self.flip_prob),\n",
    "                crossover.one_point(x_key, state.pop),\n",
    "            ),\n",
    "            axis=0,\n",
    "        )\n",
    "        # return the candidate solution and update the state\n",
    "        return offsprings, state.update(offsprings=offsprings, key=key)\n",
    "\n",
    "    def tell(self, state, fitness):\n",
    "        # here we do selection\n",
    "        merged_pop = jnp.concatenate([state.pop, state.offsprings])\n",
    "        merged_fit = jnp.concatenate([state.fit, fitness])\n",
    "        new_pop, new_fit = selection.topk_fit(merged_pop, merged_fit, self.pop_size)\n",
    "        # replace the old population\n",
    "        return state.update(pop=new_pop, fit=new_fit)\n"
   ]
  },
  {
   "cell_type": "code",
   "execution_count": 5,
   "metadata": {},
   "outputs": [],
   "source": [
    "algorithm = CustomGA(\n",
    "    pop_size=128,\n",
    "    ndim=100,\n",
    "    flip_prob=0.1,\n",
    ")\n",
    "problem = OneMax()\n",
    "monitor = monitors.EvalMonitor()"
   ]
  },
  {
   "cell_type": "code",
   "execution_count": 6,
   "metadata": {},
   "outputs": [],
   "source": [
    "# create a workflow\n",
    "workflow = workflows.StdWorkflow(\n",
    "    algorithm,\n",
    "    problem,\n",
    "    monitors=[monitor],\n",
    "    opt_direction=\"max\",\n",
    ")"
   ]
  },
  {
   "cell_type": "code",
   "execution_count": 7,
   "metadata": {},
   "outputs": [],
   "source": [
    "# init the workflow\n",
    "key = random.PRNGKey(42)\n",
    "state = workflow.init(key)\n",
    "\n",
    "# run the workflow for 20 iterations\n",
    "for i in range(20):\n",
    "    state = workflow.step(state)"
   ]
  },
  {
   "cell_type": "code",
   "execution_count": 8,
   "metadata": {},
   "outputs": [
    {
     "data": {
      "text/plain": [
       "Array(-93, dtype=int32)"
      ]
     },
     "execution_count": 8,
     "metadata": {},
     "output_type": "execute_result"
    }
   ],
   "source": [
    "monitor.get_best_fitness()"
   ]
  },
  {
   "cell_type": "code",
   "execution_count": 9,
   "metadata": {},
   "outputs": [
    {
     "data": {
      "text/plain": [
       "Array([ True,  True,  True,  True,  True,  True, False,  True,  True,\n",
       "        True,  True,  True,  True,  True,  True,  True,  True,  True,\n",
       "        True,  True,  True,  True,  True,  True,  True,  True,  True,\n",
       "        True,  True,  True,  True, False,  True,  True,  True,  True,\n",
       "        True,  True,  True,  True, False,  True,  True,  True,  True,\n",
       "        True,  True,  True,  True,  True,  True,  True,  True,  True,\n",
       "        True,  True, False,  True,  True,  True,  True,  True,  True,\n",
       "        True,  True,  True,  True,  True,  True,  True, False,  True,\n",
       "        True,  True,  True,  True,  True,  True,  True,  True,  True,\n",
       "        True,  True,  True,  True, False,  True,  True,  True,  True,\n",
       "        True,  True, False,  True,  True,  True,  True,  True,  True,\n",
       "        True], dtype=bool)"
      ]
     },
     "execution_count": 9,
     "metadata": {},
     "output_type": "execute_result"
    }
   ],
   "source": [
    "monitor.get_best_solution()"
   ]
  },
  {
   "cell_type": "code",
   "execution_count": 10,
   "metadata": {},
   "outputs": [],
   "source": [
    "# run the workflow for another 20 iterations\n",
    "for i in range(20):\n",
    "    state = workflow.step(state)"
   ]
  },
  {
   "cell_type": "code",
   "execution_count": 11,
   "metadata": {},
   "outputs": [
    {
     "data": {
      "text/plain": [
       "Array(-100, dtype=int32)"
      ]
     },
     "execution_count": 11,
     "metadata": {},
     "output_type": "execute_result"
    }
   ],
   "source": [
    "monitor.get_best_fitness()"
   ]
  },
  {
   "cell_type": "code",
   "execution_count": 12,
   "metadata": {},
   "outputs": [
    {
     "data": {
      "text/plain": [
       "Array([ True,  True,  True,  True,  True,  True,  True,  True,  True,\n",
       "        True,  True,  True,  True,  True,  True,  True,  True,  True,\n",
       "        True,  True,  True,  True,  True,  True,  True,  True,  True,\n",
       "        True,  True,  True,  True,  True,  True,  True,  True,  True,\n",
       "        True,  True,  True,  True,  True,  True,  True,  True,  True,\n",
       "        True,  True,  True,  True,  True,  True,  True,  True,  True,\n",
       "        True,  True,  True,  True,  True,  True,  True,  True,  True,\n",
       "        True,  True,  True,  True,  True,  True,  True,  True,  True,\n",
       "        True,  True,  True,  True,  True,  True,  True,  True,  True,\n",
       "        True,  True,  True,  True,  True,  True,  True,  True,  True,\n",
       "        True,  True,  True,  True,  True,  True,  True,  True,  True,\n",
       "        True], dtype=bool)"
      ]
     },
     "execution_count": 12,
     "metadata": {},
     "output_type": "execute_result"
    }
   ],
   "source": [
    "monitor.get_best_solution()"
   ]
  },
  {
   "cell_type": "code",
   "execution_count": null,
   "metadata": {},
   "outputs": [],
   "source": []
  }
 ],
 "metadata": {
  "kernelspec": {
   "display_name": "venv",
   "language": "python",
   "name": "python3"
  },
  "language_info": {
   "codemirror_mode": {
    "name": "ipython",
    "version": 3
   },
   "file_extension": ".py",
   "mimetype": "text/x-python",
   "name": "python",
   "nbconvert_exporter": "python",
   "pygments_lexer": "ipython3",
   "version": "3.10.12"
  }
 },
 "nbformat": 4,
 "nbformat_minor": 2
}
